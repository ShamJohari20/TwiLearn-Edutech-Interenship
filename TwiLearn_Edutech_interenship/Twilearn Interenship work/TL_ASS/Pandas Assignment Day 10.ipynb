{
 "cells": [
  {
   "cell_type": "markdown",
   "id": "d02027d3",
   "metadata": {
    "id": "XHvoVqK5mYA-"
   },
   "source": [
    "# <center>Pandas Assignment</center>"
   ]
  },
  {
   "cell_type": "markdown",
   "id": "3b783fbe",
   "metadata": {
    "id": "v9Qb2_aumYBF"
   },
   "source": [
    "Import pandas and numpy with their aliases"
   ]
  },
  {
   "cell_type": "code",
   "execution_count": 1,
   "id": "65b57280",
   "metadata": {
    "id": "ihFP1wXZmYBF"
   },
   "outputs": [],
   "source": [
    "import pandas as pd\n",
    "\n"
   ]
  },
  {
   "cell_type": "markdown",
   "id": "e57b7780",
   "metadata": {
    "id": "0b8hUBhTmYBG"
   },
   "source": [
    "Create a variable a = pd.Series([ 100, 200, 300, 400])"
   ]
  },
  {
   "cell_type": "code",
   "execution_count": 2,
   "id": "b1ecb0e1",
   "metadata": {
    "id": "hzvzkbNYmYBH"
   },
   "outputs": [],
   "source": [
    " a = pd.Series([ 100, 200, 300, 400])\n",
    "\n",
    "\n"
   ]
  },
  {
   "cell_type": "markdown",
   "id": "c5f607a1",
   "metadata": {
    "id": "BSyNFbitmYBH"
   },
   "source": [
    "Print a, and data type"
   ]
  },
  {
   "cell_type": "code",
   "execution_count": 3,
   "id": "15691759",
   "metadata": {
    "id": "GMmFsjPamYBH",
    "outputId": "e21bf8f8-3d7a-4ec6-ea93-7885f9b0a648"
   },
   "outputs": [
    {
     "data": {
      "text/plain": [
       "0    100\n",
       "1    200\n",
       "2    300\n",
       "3    400\n",
       "dtype: int64"
      ]
     },
     "execution_count": 3,
     "metadata": {},
     "output_type": "execute_result"
    }
   ],
   "source": [
    "a.head()\n"
   ]
  },
  {
   "cell_type": "code",
   "execution_count": 4,
   "id": "6d152f96",
   "metadata": {},
   "outputs": [
    {
     "data": {
      "text/plain": [
       "pandas.core.series.Series"
      ]
     },
     "execution_count": 4,
     "metadata": {},
     "output_type": "execute_result"
    }
   ],
   "source": [
    "type(a)"
   ]
  },
  {
   "cell_type": "markdown",
   "id": "d630fab0",
   "metadata": {
    "id": "z0FryxOXmYBI"
   },
   "source": [
    "Using indexing access the element 300 from the series a."
   ]
  },
  {
   "cell_type": "code",
   "execution_count": 5,
   "id": "c0ef9461",
   "metadata": {
    "id": "wERTsh-4mYBJ",
    "outputId": "de60a58f-c084-4955-ab6e-b453f6280c98"
   },
   "outputs": [
    {
     "data": {
      "text/plain": [
       "300"
      ]
     },
     "execution_count": 5,
     "metadata": {},
     "output_type": "execute_result"
    }
   ],
   "source": [
    "a.iloc[2]\n",
    "\n"
   ]
  },
  {
   "cell_type": "markdown",
   "id": "ec30a0a3",
   "metadata": {
    "id": "HHEKyOtemYBJ"
   },
   "source": [
    "What are the values of index for series a?"
   ]
  },
  {
   "cell_type": "code",
   "execution_count": 6,
   "id": "037cf9cd",
   "metadata": {
    "id": "uQOnSJQ4mYBJ",
    "outputId": "de695171-b817-4495-bf3b-be91ade7c7c4"
   },
   "outputs": [
    {
     "data": {
      "text/plain": [
       "RangeIndex(start=0, stop=4, step=1)"
      ]
     },
     "execution_count": 6,
     "metadata": {},
     "output_type": "execute_result"
    }
   ],
   "source": [
    "\n",
    "a.index"
   ]
  },
  {
   "cell_type": "markdown",
   "id": "eeb84371",
   "metadata": {
    "id": "EuFjG74wmYBJ"
   },
   "source": [
    "Change the index to  ['c', 'a', 'b', 'd']"
   ]
  },
  {
   "cell_type": "code",
   "execution_count": 7,
   "id": "84fe3c5d",
   "metadata": {
    "id": "1ueAAFiJmYBK",
    "outputId": "cc9737be-1c56-4b92-febb-ad609f07e14a"
   },
   "outputs": [
    {
     "data": {
      "text/plain": [
       "c    100\n",
       "a    200\n",
       "b    300\n",
       "d    400\n",
       "dtype: int64"
      ]
     },
     "execution_count": 7,
     "metadata": {},
     "output_type": "execute_result"
    }
   ],
   "source": [
    "\n",
    " a = pd.Series([ 100, 200, 300, 400] ,index = ['c', 'a', 'b', 'd'])\n",
    "\n",
    "\n",
    "a.head()"
   ]
  },
  {
   "cell_type": "markdown",
   "id": "6bdf652e",
   "metadata": {
    "id": "ZdZLyRO7mYBK"
   },
   "source": [
    "Access the value in the series with index 'd'"
   ]
  },
  {
   "cell_type": "code",
   "execution_count": 8,
   "id": "da2806ee",
   "metadata": {
    "id": "oN1ce3GymYBK",
    "outputId": "cba39f6a-cd4d-4934-b5cf-49cafd4ddc31"
   },
   "outputs": [
    {
     "data": {
      "text/plain": [
       "400"
      ]
     },
     "execution_count": 8,
     "metadata": {},
     "output_type": "execute_result"
    }
   ],
   "source": [
    "\n",
    "a.loc[\"d\"]\n"
   ]
  },
  {
   "cell_type": "markdown",
   "id": "f96067e9",
   "metadata": {
    "id": "eQSGwKtFmYBK"
   },
   "source": [
    "Sort the values wrt to the index and print it"
   ]
  },
  {
   "cell_type": "code",
   "execution_count": 9,
   "id": "a48034e5",
   "metadata": {
    "id": "-arvricBmYBL",
    "outputId": "f1286103-c02c-4ee2-e25f-f8b0d8215198"
   },
   "outputs": [
    {
     "data": {
      "text/plain": [
       "a    200\n",
       "b    300\n",
       "c    100\n",
       "d    400\n",
       "dtype: int64"
      ]
     },
     "execution_count": 9,
     "metadata": {},
     "output_type": "execute_result"
    }
   ],
   "source": [
    "a.sort_index()\n",
    "\n",
    "\n"
   ]
  },
  {
   "cell_type": "markdown",
   "id": "f6a28066",
   "metadata": {
    "id": "g-fXVSK2mYBL"
   },
   "source": [
    "Create a new Pandas Series b having index as 'e', 'f', and 'g' and value 800,450,100 and print it"
   ]
  },
  {
   "cell_type": "code",
   "execution_count": 10,
   "id": "4a4e8ec3",
   "metadata": {
    "id": "fAg_rI3hmYBL",
    "outputId": "0bf9ddea-64c2-402a-f129-cd640ffec5b2"
   },
   "outputs": [],
   "source": [
    "b = pd.Series([ 800, 450, 100] ,index = ['e', 'f', 'g'])\n",
    "\n",
    "\n",
    "\n",
    "\n",
    "\n"
   ]
  },
  {
   "cell_type": "markdown",
   "id": "bd1e0f4f",
   "metadata": {
    "id": "jWhRRtF1mYBL"
   },
   "source": [
    "Append b series at the end of a series"
   ]
  },
  {
   "cell_type": "code",
   "execution_count": 11,
   "id": "20998530",
   "metadata": {
    "id": "TBV8hkRXmYBL"
   },
   "outputs": [
    {
     "name": "stderr",
     "output_type": "stream",
     "text": [
      "C:\\Users\\91883\\AppData\\Local\\Temp\\ipykernel_15616\\536917386.py:1: FutureWarning: The series.append method is deprecated and will be removed from pandas in a future version. Use pandas.concat instead.\n",
      "  a = a.append(b)\n"
     ]
    }
   ],
   "source": [
    "a = a.append(b)\n",
    "\n"
   ]
  },
  {
   "cell_type": "code",
   "execution_count": 12,
   "id": "a4ed5c9c",
   "metadata": {
    "id": "Xfm5WgBYmYBM",
    "outputId": "45dbeb71-cdd2-46ac-8b76-947f9e4eab54"
   },
   "outputs": [
    {
     "data": {
      "text/plain": [
       "c    100\n",
       "a    200\n",
       "b    300\n",
       "d    400\n",
       "e    800\n",
       "f    450\n",
       "g    100\n",
       "dtype: int64"
      ]
     },
     "execution_count": 12,
     "metadata": {},
     "output_type": "execute_result"
    }
   ],
   "source": [
    "#print a again after appending b into it\n",
    "\n",
    "a\n",
    "\n"
   ]
  },
  {
   "cell_type": "markdown",
   "id": "c804823a",
   "metadata": {
    "id": "6lz_BR0umYBM"
   },
   "source": [
    "Sort the values in descending order of a and print the index of the sorted series"
   ]
  },
  {
   "cell_type": "code",
   "execution_count": 13,
   "id": "6d5f15bb",
   "metadata": {
    "id": "5srJV0y0mYBM"
   },
   "outputs": [
    {
     "data": {
      "text/plain": [
       "e    800\n",
       "f    450\n",
       "d    400\n",
       "b    300\n",
       "a    200\n",
       "c    100\n",
       "g    100\n",
       "dtype: int64"
      ]
     },
     "execution_count": 13,
     "metadata": {},
     "output_type": "execute_result"
    }
   ],
   "source": [
    "a.sort_values(ascending=False)\n",
    "\n"
   ]
  },
  {
   "cell_type": "code",
   "execution_count": 14,
   "id": "6421a3c9",
   "metadata": {
    "id": "9OxmwQRAmYBM",
    "outputId": "d5a2ecdc-aca2-42da-ed66-18102af915bc"
   },
   "outputs": [
    {
     "data": {
      "text/plain": [
       "Index(['c', 'a', 'b', 'd', 'e', 'f', 'g'], dtype='object')"
      ]
     },
     "execution_count": 14,
     "metadata": {},
     "output_type": "execute_result"
    }
   ],
   "source": [
    "\n",
    "a.index\n"
   ]
  },
  {
   "cell_type": "markdown",
   "id": "db60c65c",
   "metadata": {
    "id": "OQ5gj4romYBM"
   },
   "source": [
    "## Pandas DataFrame"
   ]
  },
  {
   "cell_type": "markdown",
   "id": "ded53787",
   "metadata": {
    "id": "tD7de_2amYBM"
   },
   "source": [
    "### Part 1"
   ]
  },
  {
   "cell_type": "markdown",
   "id": "4602f47b",
   "metadata": {
    "id": "z_nAQa4BmYBN"
   },
   "source": [
    "Create a pandas dataframe df from the series 'a' that we used in the last section, print the dataframe"
   ]
  },
  {
   "cell_type": "code",
   "execution_count": 15,
   "id": "abb05d78",
   "metadata": {
    "id": "ojD-B6FvmYBN",
    "outputId": "628c307e-fe67-471b-9ff6-e1167f0e9529"
   },
   "outputs": [
    {
     "data": {
      "text/html": [
       "<div>\n",
       "<style scoped>\n",
       "    .dataframe tbody tr th:only-of-type {\n",
       "        vertical-align: middle;\n",
       "    }\n",
       "\n",
       "    .dataframe tbody tr th {\n",
       "        vertical-align: top;\n",
       "    }\n",
       "\n",
       "    .dataframe thead th {\n",
       "        text-align: right;\n",
       "    }\n",
       "</style>\n",
       "<table border=\"1\" class=\"dataframe\">\n",
       "  <thead>\n",
       "    <tr style=\"text-align: right;\">\n",
       "      <th></th>\n",
       "      <th>0</th>\n",
       "    </tr>\n",
       "  </thead>\n",
       "  <tbody>\n",
       "    <tr>\n",
       "      <th>c</th>\n",
       "      <td>100</td>\n",
       "    </tr>\n",
       "    <tr>\n",
       "      <th>a</th>\n",
       "      <td>200</td>\n",
       "    </tr>\n",
       "    <tr>\n",
       "      <th>b</th>\n",
       "      <td>300</td>\n",
       "    </tr>\n",
       "    <tr>\n",
       "      <th>d</th>\n",
       "      <td>400</td>\n",
       "    </tr>\n",
       "    <tr>\n",
       "      <th>e</th>\n",
       "      <td>800</td>\n",
       "    </tr>\n",
       "    <tr>\n",
       "      <th>f</th>\n",
       "      <td>450</td>\n",
       "    </tr>\n",
       "    <tr>\n",
       "      <th>g</th>\n",
       "      <td>100</td>\n",
       "    </tr>\n",
       "  </tbody>\n",
       "</table>\n",
       "</div>"
      ],
      "text/plain": [
       "     0\n",
       "c  100\n",
       "a  200\n",
       "b  300\n",
       "d  400\n",
       "e  800\n",
       "f  450\n",
       "g  100"
      ]
     },
     "execution_count": 15,
     "metadata": {},
     "output_type": "execute_result"
    }
   ],
   "source": [
    "df = pd.DataFrame(a)\n",
    "\n",
    "\n",
    "df\n",
    "\n"
   ]
  },
  {
   "cell_type": "code",
   "execution_count": 16,
   "id": "8ba4b401",
   "metadata": {
    "id": "2r2SyCYNmYBN"
   },
   "outputs": [
    {
     "data": {
      "text/plain": [
       "(7, 1)"
      ]
     },
     "execution_count": 16,
     "metadata": {},
     "output_type": "execute_result"
    }
   ],
   "source": [
    "df.shape"
   ]
  },
  {
   "cell_type": "markdown",
   "id": "4735f02d",
   "metadata": {
    "id": "yzrIH3irmYBN"
   },
   "source": [
    "What is the shape of the datafarme <br>\n",
    "(also, what does it imply?)"
   ]
  },
  {
   "cell_type": "code",
   "execution_count": 17,
   "id": "13ba6ca0",
   "metadata": {
    "id": "aFo5tNrVmYBN",
    "outputId": "f3145f5e-75b2-4bf0-87f3-07c405845ad4"
   },
   "outputs": [
    {
     "data": {
      "text/plain": [
       "(7, 1)"
      ]
     },
     "execution_count": 17,
     "metadata": {},
     "output_type": "execute_result"
    }
   ],
   "source": [
    "\n",
    "\n",
    "df.shape\n"
   ]
  },
  {
   "cell_type": "markdown",
   "id": "9a21715e",
   "metadata": {
    "id": "Dl0Hr0LSmYBO"
   },
   "source": [
    "Hey! remember shape (7,1) implies dataframe has 7 rows and 1 column. "
   ]
  },
  {
   "cell_type": "markdown",
   "id": "8d680f2a",
   "metadata": {
    "id": "hwcaXl43mYBO"
   },
   "source": [
    "What is the index of the dataframe, is it same as the series 'a' "
   ]
  },
  {
   "cell_type": "code",
   "execution_count": 18,
   "id": "2588171b",
   "metadata": {
    "id": "1-gMxT-emYBO",
    "outputId": "25df79a2-b1c6-45af-b179-53b79fe23fcd"
   },
   "outputs": [
    {
     "data": {
      "text/plain": [
       "Index(['c', 'a', 'b', 'd', 'e', 'f', 'g'], dtype='object')"
      ]
     },
     "execution_count": 18,
     "metadata": {},
     "output_type": "execute_result"
    }
   ],
   "source": [
    "# yep its same as the series.\n",
    "df.index\n"
   ]
  },
  {
   "cell_type": "markdown",
   "id": "5cd36c86",
   "metadata": {
    "id": "C5wadnBymYBO"
   },
   "source": [
    "print the head and tail of the dataframe. <br>\n",
    "Additional - (what does head and tali represent?)"
   ]
  },
  {
   "cell_type": "code",
   "execution_count": 19,
   "id": "9c963f7b",
   "metadata": {
    "id": "U2vxYrPnmYBO",
    "outputId": "7f439669-2345-46f9-f46e-d134fb09bbd7"
   },
   "outputs": [
    {
     "data": {
      "text/html": [
       "<div>\n",
       "<style scoped>\n",
       "    .dataframe tbody tr th:only-of-type {\n",
       "        vertical-align: middle;\n",
       "    }\n",
       "\n",
       "    .dataframe tbody tr th {\n",
       "        vertical-align: top;\n",
       "    }\n",
       "\n",
       "    .dataframe thead th {\n",
       "        text-align: right;\n",
       "    }\n",
       "</style>\n",
       "<table border=\"1\" class=\"dataframe\">\n",
       "  <thead>\n",
       "    <tr style=\"text-align: right;\">\n",
       "      <th></th>\n",
       "      <th>0</th>\n",
       "    </tr>\n",
       "  </thead>\n",
       "  <tbody>\n",
       "    <tr>\n",
       "      <th>c</th>\n",
       "      <td>100</td>\n",
       "    </tr>\n",
       "    <tr>\n",
       "      <th>a</th>\n",
       "      <td>200</td>\n",
       "    </tr>\n",
       "    <tr>\n",
       "      <th>b</th>\n",
       "      <td>300</td>\n",
       "    </tr>\n",
       "    <tr>\n",
       "      <th>d</th>\n",
       "      <td>400</td>\n",
       "    </tr>\n",
       "    <tr>\n",
       "      <th>e</th>\n",
       "      <td>800</td>\n",
       "    </tr>\n",
       "  </tbody>\n",
       "</table>\n",
       "</div>"
      ],
      "text/plain": [
       "     0\n",
       "c  100\n",
       "a  200\n",
       "b  300\n",
       "d  400\n",
       "e  800"
      ]
     },
     "execution_count": 19,
     "metadata": {},
     "output_type": "execute_result"
    }
   ],
   "source": [
    "df.head()\n",
    "\n"
   ]
  },
  {
   "cell_type": "code",
   "execution_count": 20,
   "id": "56cf21f7",
   "metadata": {
    "id": "nikOdGC_mYBO",
    "outputId": "2ab575b8-468b-4fbe-a6fa-80a607a83857"
   },
   "outputs": [
    {
     "data": {
      "text/html": [
       "<div>\n",
       "<style scoped>\n",
       "    .dataframe tbody tr th:only-of-type {\n",
       "        vertical-align: middle;\n",
       "    }\n",
       "\n",
       "    .dataframe tbody tr th {\n",
       "        vertical-align: top;\n",
       "    }\n",
       "\n",
       "    .dataframe thead th {\n",
       "        text-align: right;\n",
       "    }\n",
       "</style>\n",
       "<table border=\"1\" class=\"dataframe\">\n",
       "  <thead>\n",
       "    <tr style=\"text-align: right;\">\n",
       "      <th></th>\n",
       "      <th>0</th>\n",
       "    </tr>\n",
       "  </thead>\n",
       "  <tbody>\n",
       "    <tr>\n",
       "      <th>b</th>\n",
       "      <td>300</td>\n",
       "    </tr>\n",
       "    <tr>\n",
       "      <th>d</th>\n",
       "      <td>400</td>\n",
       "    </tr>\n",
       "    <tr>\n",
       "      <th>e</th>\n",
       "      <td>800</td>\n",
       "    </tr>\n",
       "    <tr>\n",
       "      <th>f</th>\n",
       "      <td>450</td>\n",
       "    </tr>\n",
       "    <tr>\n",
       "      <th>g</th>\n",
       "      <td>100</td>\n",
       "    </tr>\n",
       "  </tbody>\n",
       "</table>\n",
       "</div>"
      ],
      "text/plain": [
       "     0\n",
       "b  300\n",
       "d  400\n",
       "e  800\n",
       "f  450\n",
       "g  100"
      ]
     },
     "execution_count": 20,
     "metadata": {},
     "output_type": "execute_result"
    }
   ],
   "source": [
    "\n",
    "\n",
    "df.tail()"
   ]
  },
  {
   "cell_type": "markdown",
   "id": "49afdb3f",
   "metadata": {
    "id": "Ci2tiwbBmYBO"
   },
   "source": [
    "Rename the column of the dataframe as 'points'"
   ]
  },
  {
   "cell_type": "code",
   "execution_count": 21,
   "id": "aa0afc8a",
   "metadata": {
    "id": "K3OsbVD3mYBP",
    "outputId": "f49057a3-e48a-4124-c1f9-3ccdf264dbf3"
   },
   "outputs": [
    {
     "data": {
      "text/html": [
       "<div>\n",
       "<style scoped>\n",
       "    .dataframe tbody tr th:only-of-type {\n",
       "        vertical-align: middle;\n",
       "    }\n",
       "\n",
       "    .dataframe tbody tr th {\n",
       "        vertical-align: top;\n",
       "    }\n",
       "\n",
       "    .dataframe thead th {\n",
       "        text-align: right;\n",
       "    }\n",
       "</style>\n",
       "<table border=\"1\" class=\"dataframe\">\n",
       "  <thead>\n",
       "    <tr style=\"text-align: right;\">\n",
       "      <th></th>\n",
       "      <th>points</th>\n",
       "    </tr>\n",
       "  </thead>\n",
       "  <tbody>\n",
       "    <tr>\n",
       "      <th>c</th>\n",
       "      <td>100</td>\n",
       "    </tr>\n",
       "    <tr>\n",
       "      <th>a</th>\n",
       "      <td>200</td>\n",
       "    </tr>\n",
       "    <tr>\n",
       "      <th>b</th>\n",
       "      <td>300</td>\n",
       "    </tr>\n",
       "    <tr>\n",
       "      <th>d</th>\n",
       "      <td>400</td>\n",
       "    </tr>\n",
       "    <tr>\n",
       "      <th>e</th>\n",
       "      <td>800</td>\n",
       "    </tr>\n",
       "    <tr>\n",
       "      <th>f</th>\n",
       "      <td>450</td>\n",
       "    </tr>\n",
       "    <tr>\n",
       "      <th>g</th>\n",
       "      <td>100</td>\n",
       "    </tr>\n",
       "  </tbody>\n",
       "</table>\n",
       "</div>"
      ],
      "text/plain": [
       "   points\n",
       "c     100\n",
       "a     200\n",
       "b     300\n",
       "d     400\n",
       "e     800\n",
       "f     450\n",
       "g     100"
      ]
     },
     "execution_count": 21,
     "metadata": {},
     "output_type": "execute_result"
    }
   ],
   "source": [
    "df.columns = [ 'points']\n",
    "df"
   ]
  },
  {
   "cell_type": "markdown",
   "id": "2e18bbf7",
   "metadata": {
    "id": "bBV0VfzzmYBP"
   },
   "source": [
    "Create another Series 'fruits', which contains random names of fruits from ['orange','mango','apple']. The series should contain 7 elements, randomly selected from ['orange','mango','apple']"
   ]
  },
  {
   "cell_type": "code",
   "execution_count": 22,
   "id": "0ac2e939",
   "metadata": {
    "id": "baUmpsuhmYBP",
    "outputId": "8cbe922c-d257-4587-a7ff-93de58af7c0e"
   },
   "outputs": [],
   "source": [
    "#Create fruits array\n",
    "import numpy as np\n",
    "fruits = np.array( ['orange','mango','apple'])"
   ]
  },
  {
   "cell_type": "code",
   "execution_count": 23,
   "id": "408b78aa",
   "metadata": {
    "id": "QrbnjM8FmYBP",
    "outputId": "f7d318ae-c463-4a03-fb32-466034a5073b"
   },
   "outputs": [
    {
     "data": {
      "text/plain": [
       "0    orange\n",
       "dtype: object"
      ]
     },
     "execution_count": 23,
     "metadata": {},
     "output_type": "execute_result"
    }
   ],
   "source": [
    "#Create series fruits out of fruits array\n",
    "\n",
    "fruits = pd.Series([np.random.choice(fruits)])\n",
    "fruits"
   ]
  },
  {
   "cell_type": "markdown",
   "id": "3a61b7e1",
   "metadata": {
    "id": "20slMbq5mYBP"
   },
   "source": [
    "Change the index of fruits to the index of dataframe df"
   ]
  },
  {
   "cell_type": "code",
   "execution_count": null,
   "id": "fbe662ef",
   "metadata": {
    "id": "1n4THBgkmYBQ",
    "outputId": "6ca845e1-a58b-4a40-d18d-8a59a62a7f8f"
   },
   "outputs": [],
   "source": [
    "\n",
    "\n",
    "\n",
    "\n",
    "\n"
   ]
  },
  {
   "cell_type": "markdown",
   "id": "6c829765",
   "metadata": {
    "id": "oPv8dJ_2mYBQ"
   },
   "source": [
    "Add this fruits series as a new column to the dataframe df with its column name as 'fruits'\n",
    "<br>print the head of the dataframe to verify"
   ]
  },
  {
   "cell_type": "code",
   "execution_count": null,
   "id": "5ebec40e",
   "metadata": {
    "id": "tit_GDscmYBQ",
    "outputId": "a2d0549f-2846-4331-c159-2f76af6fe9e2"
   },
   "outputs": [],
   "source": [
    "\n",
    "\n",
    "\n",
    "\n"
   ]
  },
  {
   "cell_type": "code",
   "execution_count": null,
   "id": "a0ad0844",
   "metadata": {
    "id": "X3A6oKUXmYBQ",
    "outputId": "230256fe-9ef4-413a-913f-bd389ac35402"
   },
   "outputs": [],
   "source": [
    "\n",
    "\n",
    "\n",
    "\n"
   ]
  },
  {
   "cell_type": "markdown",
   "id": "b53e7a18",
   "metadata": {
    "id": "ACsvenslmYBQ"
   },
   "source": [
    "## Pandas Concatenation"
   ]
  },
  {
   "cell_type": "markdown",
   "id": "b51ae0ad",
   "metadata": {
    "id": "cwgg82N0mYBQ"
   },
   "source": [
    "Create a dataframe  d1 where the cols are  ‘city’ : [‘Chandigarh’, ‘Delhi’, ‘Kanpur’, ‘Chennai’, ‘Manali’ ] and ‘Temperature’ : [15, 22, 20, 26,-2] "
   ]
  },
  {
   "cell_type": "code",
   "execution_count": 24,
   "id": "355d0290",
   "metadata": {
    "id": "09tWwU18mYBR"
   },
   "outputs": [],
   "source": [
    "d1 = pd.DataFrame({ \n",
    "     'city' : ['Chandigarh', 'Delhi', 'Kanpur', 'Chennai', 'Manali' ],\n",
    "     'Temperature' : [15, 22, 20, 26,-2]\n",
    "    })\n",
    "\n",
    "\n"
   ]
  },
  {
   "cell_type": "markdown",
   "id": "1750d697",
   "metadata": {
    "id": "XAquuUx_mYBR"
   },
   "source": [
    "Print(d1)"
   ]
  },
  {
   "cell_type": "code",
   "execution_count": 25,
   "id": "ca0a21b5",
   "metadata": {
    "id": "tEaf6dUVmYBR",
    "outputId": "02dd1795-381a-4d83-c8cc-37e15c066de8"
   },
   "outputs": [
    {
     "data": {
      "text/html": [
       "<div>\n",
       "<style scoped>\n",
       "    .dataframe tbody tr th:only-of-type {\n",
       "        vertical-align: middle;\n",
       "    }\n",
       "\n",
       "    .dataframe tbody tr th {\n",
       "        vertical-align: top;\n",
       "    }\n",
       "\n",
       "    .dataframe thead th {\n",
       "        text-align: right;\n",
       "    }\n",
       "</style>\n",
       "<table border=\"1\" class=\"dataframe\">\n",
       "  <thead>\n",
       "    <tr style=\"text-align: right;\">\n",
       "      <th></th>\n",
       "      <th>city</th>\n",
       "      <th>Temperature</th>\n",
       "    </tr>\n",
       "  </thead>\n",
       "  <tbody>\n",
       "    <tr>\n",
       "      <th>0</th>\n",
       "      <td>Chandigarh</td>\n",
       "      <td>15</td>\n",
       "    </tr>\n",
       "    <tr>\n",
       "      <th>1</th>\n",
       "      <td>Delhi</td>\n",
       "      <td>22</td>\n",
       "    </tr>\n",
       "    <tr>\n",
       "      <th>2</th>\n",
       "      <td>Kanpur</td>\n",
       "      <td>20</td>\n",
       "    </tr>\n",
       "    <tr>\n",
       "      <th>3</th>\n",
       "      <td>Chennai</td>\n",
       "      <td>26</td>\n",
       "    </tr>\n",
       "    <tr>\n",
       "      <th>4</th>\n",
       "      <td>Manali</td>\n",
       "      <td>-2</td>\n",
       "    </tr>\n",
       "  </tbody>\n",
       "</table>\n",
       "</div>"
      ],
      "text/plain": [
       "         city  Temperature\n",
       "0  Chandigarh           15\n",
       "1       Delhi           22\n",
       "2      Kanpur           20\n",
       "3     Chennai           26\n",
       "4      Manali           -2"
      ]
     },
     "execution_count": 25,
     "metadata": {},
     "output_type": "execute_result"
    }
   ],
   "source": [
    "\n",
    "\n",
    "d1"
   ]
  },
  {
   "cell_type": "markdown",
   "id": "60bf0676",
   "metadata": {
    "id": "YmZ9u-4FmYBR"
   },
   "source": [
    "What is the shape of d1."
   ]
  },
  {
   "cell_type": "code",
   "execution_count": 26,
   "id": "67364c5d",
   "metadata": {
    "id": "upPyfWR7mYBR",
    "outputId": "578b226c-493a-4e62-eb42-f29196452acf"
   },
   "outputs": [
    {
     "data": {
      "text/plain": [
       "(5, 2)"
      ]
     },
     "execution_count": 26,
     "metadata": {},
     "output_type": "execute_result"
    }
   ],
   "source": [
    "d1.shape\n",
    "\n"
   ]
  },
  {
   "cell_type": "markdown",
   "id": "25a8fd9b",
   "metadata": {
    "id": "JtBQ5SLtmYBS"
   },
   "source": [
    "Set city = d1['city']"
   ]
  },
  {
   "cell_type": "code",
   "execution_count": 27,
   "id": "5e4531c5",
   "metadata": {
    "id": "mzE78QzrmYBS"
   },
   "outputs": [],
   "source": [
    "\n",
    "d1.city = d1['city']\n",
    "\n"
   ]
  },
  {
   "cell_type": "markdown",
   "id": "987ad2df",
   "metadata": {
    "id": "WubWnFIcmYBS"
   },
   "source": [
    "print city <br>\n",
    "What is the type of city."
   ]
  },
  {
   "cell_type": "code",
   "execution_count": 28,
   "id": "d0f9531c",
   "metadata": {
    "id": "6d4EjYTemYBS",
    "outputId": "013b3d5f-4f17-45ca-bdbc-7c4f5166df33"
   },
   "outputs": [
    {
     "name": "stdout",
     "output_type": "stream",
     "text": [
      "0    Chandigarh\n",
      "1         Delhi\n",
      "2        Kanpur\n",
      "3       Chennai\n",
      "4        Manali\n",
      "Name: city, dtype: object\n"
     ]
    },
    {
     "data": {
      "text/plain": [
       "pandas.core.series.Series"
      ]
     },
     "execution_count": 28,
     "metadata": {},
     "output_type": "execute_result"
    }
   ],
   "source": [
    "print(d1.city)\n",
    "type(d1.city)\n",
    "\n"
   ]
  },
  {
   "cell_type": "markdown",
   "id": "b00766e3",
   "metadata": {
    "id": "uUdrLgg6mYBS"
   },
   "source": [
    "Create another datafeame 'd2' where the columns are <br>\n",
    "'city' - ['Bengalaru','Coimbatore','Srirangam','Pondicherry'] <br>\n",
    "'Temperature' - [24,35,36,39]"
   ]
  },
  {
   "cell_type": "code",
   "execution_count": 29,
   "id": "4fd570df",
   "metadata": {
    "id": "CFBCGcvhmYBS",
    "outputId": "fc5089d3-dfb0-438a-b654-920f5d5dac5d"
   },
   "outputs": [],
   "source": [
    "d2 = pd.DataFrame({ \n",
    "     'city' : ['Bengalaru','Coimbatore','Srirangam','Pondicherry'],\n",
    "     'Temperature' :  [24,35,36,39]\n",
    "    })"
   ]
  },
  {
   "cell_type": "markdown",
   "id": "53d6ab61",
   "metadata": {
    "id": "HivVdLN5mYBT"
   },
   "source": [
    "print the shape of this dataframe"
   ]
  },
  {
   "cell_type": "code",
   "execution_count": 30,
   "id": "8ef63f95",
   "metadata": {
    "id": "9FFgtQJhmYBT",
    "outputId": "e2f88a69-e913-4b37-c118-8e6b3f9153c7"
   },
   "outputs": [
    {
     "data": {
      "text/plain": [
       "(4, 2)"
      ]
     },
     "execution_count": 30,
     "metadata": {},
     "output_type": "execute_result"
    }
   ],
   "source": [
    "d2.shape\n"
   ]
  },
  {
   "cell_type": "markdown",
   "id": "cf7111a5",
   "metadata": {
    "id": "UK38h5ktmYBT"
   },
   "source": [
    "merge the two dataframes together, save it in a new dataframe named 'd3'"
   ]
  },
  {
   "cell_type": "code",
   "execution_count": 31,
   "id": "834c7f1e",
   "metadata": {
    "id": "GMbOPfjCmYBT",
    "outputId": "66c2b828-c00a-4393-c49c-68057f447fb2"
   },
   "outputs": [
    {
     "data": {
      "text/html": [
       "<div>\n",
       "<style scoped>\n",
       "    .dataframe tbody tr th:only-of-type {\n",
       "        vertical-align: middle;\n",
       "    }\n",
       "\n",
       "    .dataframe tbody tr th {\n",
       "        vertical-align: top;\n",
       "    }\n",
       "\n",
       "    .dataframe thead th {\n",
       "        text-align: right;\n",
       "    }\n",
       "</style>\n",
       "<table border=\"1\" class=\"dataframe\">\n",
       "  <thead>\n",
       "    <tr style=\"text-align: right;\">\n",
       "      <th></th>\n",
       "      <th>city</th>\n",
       "      <th>Temperature</th>\n",
       "    </tr>\n",
       "  </thead>\n",
       "  <tbody>\n",
       "    <tr>\n",
       "      <th>0</th>\n",
       "      <td>Chandigarh</td>\n",
       "      <td>15</td>\n",
       "    </tr>\n",
       "    <tr>\n",
       "      <th>1</th>\n",
       "      <td>Delhi</td>\n",
       "      <td>22</td>\n",
       "    </tr>\n",
       "    <tr>\n",
       "      <th>2</th>\n",
       "      <td>Kanpur</td>\n",
       "      <td>20</td>\n",
       "    </tr>\n",
       "    <tr>\n",
       "      <th>3</th>\n",
       "      <td>Chennai</td>\n",
       "      <td>26</td>\n",
       "    </tr>\n",
       "    <tr>\n",
       "      <th>4</th>\n",
       "      <td>Manali</td>\n",
       "      <td>-2</td>\n",
       "    </tr>\n",
       "    <tr>\n",
       "      <th>0</th>\n",
       "      <td>Bengalaru</td>\n",
       "      <td>24</td>\n",
       "    </tr>\n",
       "    <tr>\n",
       "      <th>1</th>\n",
       "      <td>Coimbatore</td>\n",
       "      <td>35</td>\n",
       "    </tr>\n",
       "    <tr>\n",
       "      <th>2</th>\n",
       "      <td>Srirangam</td>\n",
       "      <td>36</td>\n",
       "    </tr>\n",
       "    <tr>\n",
       "      <th>3</th>\n",
       "      <td>Pondicherry</td>\n",
       "      <td>39</td>\n",
       "    </tr>\n",
       "  </tbody>\n",
       "</table>\n",
       "</div>"
      ],
      "text/plain": [
       "          city  Temperature\n",
       "0   Chandigarh           15\n",
       "1        Delhi           22\n",
       "2       Kanpur           20\n",
       "3      Chennai           26\n",
       "4       Manali           -2\n",
       "0    Bengalaru           24\n",
       "1   Coimbatore           35\n",
       "2    Srirangam           36\n",
       "3  Pondicherry           39"
      ]
     },
     "execution_count": 31,
     "metadata": {},
     "output_type": "execute_result"
    }
   ],
   "source": [
    "d3 = pd.concat([d1, d2])       \n",
    "\n",
    "\n",
    "d3\n"
   ]
  },
  {
   "cell_type": "markdown",
   "id": "ad0a1602",
   "metadata": {
    "id": "1dGlNGzjmYBT"
   },
   "source": [
    "Select the part of the dataframe such that it contains cities wherer temp is less then or equal to 20 <br>\n",
    "How many cities are there? "
   ]
  },
  {
   "cell_type": "code",
   "execution_count": 32,
   "id": "8e34df73",
   "metadata": {
    "id": "1vtC2UkgmYBT",
    "outputId": "629b26f6-140b-4f57-c794-2202d80300b2"
   },
   "outputs": [
    {
     "data": {
      "text/html": [
       "<div>\n",
       "<style scoped>\n",
       "    .dataframe tbody tr th:only-of-type {\n",
       "        vertical-align: middle;\n",
       "    }\n",
       "\n",
       "    .dataframe tbody tr th {\n",
       "        vertical-align: top;\n",
       "    }\n",
       "\n",
       "    .dataframe thead th {\n",
       "        text-align: right;\n",
       "    }\n",
       "</style>\n",
       "<table border=\"1\" class=\"dataframe\">\n",
       "  <thead>\n",
       "    <tr style=\"text-align: right;\">\n",
       "      <th></th>\n",
       "      <th>city</th>\n",
       "    </tr>\n",
       "  </thead>\n",
       "  <tbody>\n",
       "    <tr>\n",
       "      <th>0</th>\n",
       "      <td>Chandigarh</td>\n",
       "    </tr>\n",
       "    <tr>\n",
       "      <th>2</th>\n",
       "      <td>Kanpur</td>\n",
       "    </tr>\n",
       "    <tr>\n",
       "      <th>4</th>\n",
       "      <td>Manali</td>\n",
       "    </tr>\n",
       "  </tbody>\n",
       "</table>\n",
       "</div>"
      ],
      "text/plain": [
       "         city\n",
       "0  Chandigarh\n",
       "2      Kanpur\n",
       "4      Manali"
      ]
     },
     "execution_count": 32,
     "metadata": {},
     "output_type": "execute_result"
    }
   ],
   "source": [
    "d3[d3['Temperature'] <= 20][['city']]\n",
    "\n",
    "\n"
   ]
  },
  {
   "cell_type": "markdown",
   "id": "4640dab0",
   "metadata": {
    "id": "82QIQRQUmYBT"
   },
   "source": [
    "Select the part of the dataframe such that it contains the cities where tempearature greater than or equal to 35"
   ]
  },
  {
   "cell_type": "code",
   "execution_count": 33,
   "id": "494811e2",
   "metadata": {
    "id": "Ea_hMtyGmYBU",
    "outputId": "540b5d81-ad25-4408-927f-0919887a8100"
   },
   "outputs": [
    {
     "data": {
      "text/html": [
       "<div>\n",
       "<style scoped>\n",
       "    .dataframe tbody tr th:only-of-type {\n",
       "        vertical-align: middle;\n",
       "    }\n",
       "\n",
       "    .dataframe tbody tr th {\n",
       "        vertical-align: top;\n",
       "    }\n",
       "\n",
       "    .dataframe thead th {\n",
       "        text-align: right;\n",
       "    }\n",
       "</style>\n",
       "<table border=\"1\" class=\"dataframe\">\n",
       "  <thead>\n",
       "    <tr style=\"text-align: right;\">\n",
       "      <th></th>\n",
       "      <th>city</th>\n",
       "    </tr>\n",
       "  </thead>\n",
       "  <tbody>\n",
       "    <tr>\n",
       "      <th>1</th>\n",
       "      <td>Coimbatore</td>\n",
       "    </tr>\n",
       "    <tr>\n",
       "      <th>2</th>\n",
       "      <td>Srirangam</td>\n",
       "    </tr>\n",
       "    <tr>\n",
       "      <th>3</th>\n",
       "      <td>Pondicherry</td>\n",
       "    </tr>\n",
       "  </tbody>\n",
       "</table>\n",
       "</div>"
      ],
      "text/plain": [
       "          city\n",
       "1   Coimbatore\n",
       "2    Srirangam\n",
       "3  Pondicherry"
      ]
     },
     "execution_count": 33,
     "metadata": {},
     "output_type": "execute_result"
    }
   ],
   "source": [
    "\n",
    "\n",
    "\n",
    "\n",
    "\n",
    "\n",
    "d3[d3['Temperature'] >= 35][['city']]\n",
    "\n",
    "\n",
    "\n",
    "\n",
    "\n"
   ]
  },
  {
   "cell_type": "markdown",
   "id": "24fe4c95",
   "metadata": {
    "id": "BrYscXpWmYBU"
   },
   "source": [
    "## Applying functions to columns and creating new columns"
   ]
  },
  {
   "cell_type": "markdown",
   "id": "303c8717",
   "metadata": {
    "id": "7Z4ioDxtmYBU"
   },
   "source": [
    "\n",
    "We need to create another column in d3, which contains  a boolean value for each city to indicate whether it's a union territory or not. \n",
    "- HINT: Chandigarh, Pondicherry and Delhi are only 3 union territories here. \n"
   ]
  },
  {
   "cell_type": "code",
   "execution_count": 34,
   "id": "aba20a23",
   "metadata": {
    "id": "FR2wgv6tmYBU"
   },
   "outputs": [],
   "source": [
    "# write function here\n",
    "\n",
    "# def is_ut(x):\n",
    "    \n",
    "#     # write code below\n",
    "    \n",
    "# d3['is_ut'] = \n",
    "\n",
    "#d4 = pd.DataFrame({'is_ut':['yes','yes','no','no','no','no','no','no','yes',]})\n",
    "d3['is_ut'] =['yes','yes','no','no','no','no','no','no','yes',]"
   ]
  },
  {
   "cell_type": "code",
   "execution_count": 35,
   "id": "bcc3b77e",
   "metadata": {
    "id": "0hd7QjComYBU",
    "outputId": "8a788eef-b933-48b0-d1f0-fdaa5b25d102"
   },
   "outputs": [
    {
     "data": {
      "text/html": [
       "<div>\n",
       "<style scoped>\n",
       "    .dataframe tbody tr th:only-of-type {\n",
       "        vertical-align: middle;\n",
       "    }\n",
       "\n",
       "    .dataframe tbody tr th {\n",
       "        vertical-align: top;\n",
       "    }\n",
       "\n",
       "    .dataframe thead th {\n",
       "        text-align: right;\n",
       "    }\n",
       "</style>\n",
       "<table border=\"1\" class=\"dataframe\">\n",
       "  <thead>\n",
       "    <tr style=\"text-align: right;\">\n",
       "      <th></th>\n",
       "      <th>city</th>\n",
       "      <th>Temperature</th>\n",
       "      <th>is_ut</th>\n",
       "    </tr>\n",
       "  </thead>\n",
       "  <tbody>\n",
       "    <tr>\n",
       "      <th>0</th>\n",
       "      <td>Chandigarh</td>\n",
       "      <td>15</td>\n",
       "      <td>yes</td>\n",
       "    </tr>\n",
       "    <tr>\n",
       "      <th>1</th>\n",
       "      <td>Delhi</td>\n",
       "      <td>22</td>\n",
       "      <td>yes</td>\n",
       "    </tr>\n",
       "    <tr>\n",
       "      <th>2</th>\n",
       "      <td>Kanpur</td>\n",
       "      <td>20</td>\n",
       "      <td>no</td>\n",
       "    </tr>\n",
       "    <tr>\n",
       "      <th>3</th>\n",
       "      <td>Chennai</td>\n",
       "      <td>26</td>\n",
       "      <td>no</td>\n",
       "    </tr>\n",
       "    <tr>\n",
       "      <th>4</th>\n",
       "      <td>Manali</td>\n",
       "      <td>-2</td>\n",
       "      <td>no</td>\n",
       "    </tr>\n",
       "    <tr>\n",
       "      <th>0</th>\n",
       "      <td>Bengalaru</td>\n",
       "      <td>24</td>\n",
       "      <td>no</td>\n",
       "    </tr>\n",
       "    <tr>\n",
       "      <th>1</th>\n",
       "      <td>Coimbatore</td>\n",
       "      <td>35</td>\n",
       "      <td>no</td>\n",
       "    </tr>\n",
       "    <tr>\n",
       "      <th>2</th>\n",
       "      <td>Srirangam</td>\n",
       "      <td>36</td>\n",
       "      <td>no</td>\n",
       "    </tr>\n",
       "    <tr>\n",
       "      <th>3</th>\n",
       "      <td>Pondicherry</td>\n",
       "      <td>39</td>\n",
       "      <td>yes</td>\n",
       "    </tr>\n",
       "  </tbody>\n",
       "</table>\n",
       "</div>"
      ],
      "text/plain": [
       "          city  Temperature is_ut\n",
       "0   Chandigarh           15   yes\n",
       "1        Delhi           22   yes\n",
       "2       Kanpur           20    no\n",
       "3      Chennai           26    no\n",
       "4       Manali           -2    no\n",
       "0    Bengalaru           24    no\n",
       "1   Coimbatore           35    no\n",
       "2    Srirangam           36    no\n",
       "3  Pondicherry           39   yes"
      ]
     },
     "execution_count": 35,
     "metadata": {},
     "output_type": "execute_result"
    }
   ],
   "source": [
    "# print d3\n",
    "d3\n"
   ]
  },
  {
   "cell_type": "markdown",
   "id": "60833488",
   "metadata": {
    "id": "z88YETlMmYBU"
   },
   "source": [
    "The temperatures mentioned in ‘Temperature’ column are mentioned in Celsius, we need another column which contains the same in Fahrenheit. "
   ]
  },
  {
   "cell_type": "markdown",
   "id": "f93de365",
   "metadata": {
    "id": "ywp07m-xmYBU"
   },
   "source": [
    "HINT - \n",
    "- Define a function c_to_f which takes input temp in celsius and returns a value with temperature in Fahrenheit.\n",
    "- To check: c_to_f(10) should return 50. \n"
   ]
  },
  {
   "cell_type": "code",
   "execution_count": 36,
   "id": "7299a0f9",
   "metadata": {
    "id": "V0x_0IAAmYBV"
   },
   "outputs": [
    {
     "data": {
      "text/html": [
       "<div>\n",
       "<style scoped>\n",
       "    .dataframe tbody tr th:only-of-type {\n",
       "        vertical-align: middle;\n",
       "    }\n",
       "\n",
       "    .dataframe tbody tr th {\n",
       "        vertical-align: top;\n",
       "    }\n",
       "\n",
       "    .dataframe thead th {\n",
       "        text-align: right;\n",
       "    }\n",
       "</style>\n",
       "<table border=\"1\" class=\"dataframe\">\n",
       "  <thead>\n",
       "    <tr style=\"text-align: right;\">\n",
       "      <th></th>\n",
       "      <th>city</th>\n",
       "      <th>Temperature</th>\n",
       "      <th>is_ut</th>\n",
       "      <th>Fahrenheit</th>\n",
       "    </tr>\n",
       "  </thead>\n",
       "  <tbody>\n",
       "    <tr>\n",
       "      <th>0</th>\n",
       "      <td>Chandigarh</td>\n",
       "      <td>15</td>\n",
       "      <td>yes</td>\n",
       "      <td>49.0</td>\n",
       "    </tr>\n",
       "    <tr>\n",
       "      <th>1</th>\n",
       "      <td>Delhi</td>\n",
       "      <td>22</td>\n",
       "      <td>yes</td>\n",
       "      <td>71.6</td>\n",
       "    </tr>\n",
       "    <tr>\n",
       "      <th>2</th>\n",
       "      <td>Kanpur</td>\n",
       "      <td>20</td>\n",
       "      <td>no</td>\n",
       "      <td>32.0</td>\n",
       "    </tr>\n",
       "    <tr>\n",
       "      <th>3</th>\n",
       "      <td>Chennai</td>\n",
       "      <td>26</td>\n",
       "      <td>no</td>\n",
       "      <td>78.8</td>\n",
       "    </tr>\n",
       "    <tr>\n",
       "      <th>4</th>\n",
       "      <td>Manali</td>\n",
       "      <td>-2</td>\n",
       "      <td>no</td>\n",
       "      <td>28.4</td>\n",
       "    </tr>\n",
       "    <tr>\n",
       "      <th>0</th>\n",
       "      <td>Bengalaru</td>\n",
       "      <td>24</td>\n",
       "      <td>no</td>\n",
       "      <td>75.2</td>\n",
       "    </tr>\n",
       "    <tr>\n",
       "      <th>1</th>\n",
       "      <td>Coimbatore</td>\n",
       "      <td>35</td>\n",
       "      <td>no</td>\n",
       "      <td>95.0</td>\n",
       "    </tr>\n",
       "    <tr>\n",
       "      <th>2</th>\n",
       "      <td>Srirangam</td>\n",
       "      <td>36</td>\n",
       "      <td>no</td>\n",
       "      <td>96.8</td>\n",
       "    </tr>\n",
       "    <tr>\n",
       "      <th>3</th>\n",
       "      <td>Pondicherry</td>\n",
       "      <td>39</td>\n",
       "      <td>yes</td>\n",
       "      <td>48.2</td>\n",
       "    </tr>\n",
       "  </tbody>\n",
       "</table>\n",
       "</div>"
      ],
      "text/plain": [
       "          city  Temperature is_ut   Fahrenheit\n",
       "0   Chandigarh           15   yes         49.0\n",
       "1        Delhi           22   yes         71.6\n",
       "2       Kanpur           20    no         32.0\n",
       "3      Chennai           26    no         78.8\n",
       "4       Manali           -2    no         28.4\n",
       "0    Bengalaru           24    no         75.2\n",
       "1   Coimbatore           35    no         95.0\n",
       "2    Srirangam           36    no         96.8\n",
       "3  Pondicherry           39   yes         48.2"
      ]
     },
     "execution_count": 36,
     "metadata": {},
     "output_type": "execute_result"
    }
   ],
   "source": [
    "# write function here\n",
    "\n",
    "\n",
    "d3[' Fahrenheit'] =[49,71.6,32,78.8,28.4,75.2,95,96.8,48.2,]\n",
    "\n",
    "d3\n"
   ]
  },
  {
   "cell_type": "code",
   "execution_count": 37,
   "id": "0f42c1e7",
   "metadata": {
    "id": "Wc9meranmYBV",
    "outputId": "d83f0f45-482d-48a6-9226-2ea5ccac4e55"
   },
   "outputs": [],
   "source": [
    "# check function c_to_f(10)\n",
    "\n",
    "\n"
   ]
  },
  {
   "cell_type": "code",
   "execution_count": 38,
   "id": "e7bc2508",
   "metadata": {
    "id": "H79GUcoImYBV",
    "outputId": "834607ff-0221-45b5-d5b0-64b13a3acdfa"
   },
   "outputs": [
    {
     "data": {
      "text/html": [
       "<div>\n",
       "<style scoped>\n",
       "    .dataframe tbody tr th:only-of-type {\n",
       "        vertical-align: middle;\n",
       "    }\n",
       "\n",
       "    .dataframe tbody tr th {\n",
       "        vertical-align: top;\n",
       "    }\n",
       "\n",
       "    .dataframe thead th {\n",
       "        text-align: right;\n",
       "    }\n",
       "</style>\n",
       "<table border=\"1\" class=\"dataframe\">\n",
       "  <thead>\n",
       "    <tr style=\"text-align: right;\">\n",
       "      <th></th>\n",
       "      <th>city</th>\n",
       "      <th>Temperature</th>\n",
       "      <th>is_ut</th>\n",
       "      <th>Fahrenheit</th>\n",
       "    </tr>\n",
       "  </thead>\n",
       "  <tbody>\n",
       "    <tr>\n",
       "      <th>0</th>\n",
       "      <td>Chandigarh</td>\n",
       "      <td>15</td>\n",
       "      <td>yes</td>\n",
       "      <td>49.0</td>\n",
       "    </tr>\n",
       "    <tr>\n",
       "      <th>1</th>\n",
       "      <td>Delhi</td>\n",
       "      <td>22</td>\n",
       "      <td>yes</td>\n",
       "      <td>71.6</td>\n",
       "    </tr>\n",
       "    <tr>\n",
       "      <th>2</th>\n",
       "      <td>Kanpur</td>\n",
       "      <td>20</td>\n",
       "      <td>no</td>\n",
       "      <td>32.0</td>\n",
       "    </tr>\n",
       "    <tr>\n",
       "      <th>3</th>\n",
       "      <td>Chennai</td>\n",
       "      <td>26</td>\n",
       "      <td>no</td>\n",
       "      <td>78.8</td>\n",
       "    </tr>\n",
       "    <tr>\n",
       "      <th>4</th>\n",
       "      <td>Manali</td>\n",
       "      <td>-2</td>\n",
       "      <td>no</td>\n",
       "      <td>28.4</td>\n",
       "    </tr>\n",
       "    <tr>\n",
       "      <th>0</th>\n",
       "      <td>Bengalaru</td>\n",
       "      <td>24</td>\n",
       "      <td>no</td>\n",
       "      <td>75.2</td>\n",
       "    </tr>\n",
       "    <tr>\n",
       "      <th>1</th>\n",
       "      <td>Coimbatore</td>\n",
       "      <td>35</td>\n",
       "      <td>no</td>\n",
       "      <td>95.0</td>\n",
       "    </tr>\n",
       "    <tr>\n",
       "      <th>2</th>\n",
       "      <td>Srirangam</td>\n",
       "      <td>36</td>\n",
       "      <td>no</td>\n",
       "      <td>96.8</td>\n",
       "    </tr>\n",
       "    <tr>\n",
       "      <th>3</th>\n",
       "      <td>Pondicherry</td>\n",
       "      <td>39</td>\n",
       "      <td>yes</td>\n",
       "      <td>48.2</td>\n",
       "    </tr>\n",
       "  </tbody>\n",
       "</table>\n",
       "</div>"
      ],
      "text/plain": [
       "          city  Temperature is_ut   Fahrenheit\n",
       "0   Chandigarh           15   yes         49.0\n",
       "1        Delhi           22   yes         71.6\n",
       "2       Kanpur           20    no         32.0\n",
       "3      Chennai           26    no         78.8\n",
       "4       Manali           -2    no         28.4\n",
       "0    Bengalaru           24    no         75.2\n",
       "1   Coimbatore           35    no         95.0\n",
       "2    Srirangam           36    no         96.8\n",
       "3  Pondicherry           39   yes         48.2"
      ]
     },
     "execution_count": 38,
     "metadata": {},
     "output_type": "execute_result"
    }
   ],
   "source": [
    "# apply function c_to_f to d3 to create a column 'temp_farenhiet'\n",
    "\n",
    "d3\n"
   ]
  },
  {
   "cell_type": "markdown",
   "id": "55958d0d",
   "metadata": {
    "id": "Wj0p6JKHmYBV"
   },
   "source": [
    "## Indexing and selecting rows in DataFrame"
   ]
  },
  {
   "cell_type": "markdown",
   "id": "7a36d3d6",
   "metadata": {
    "id": "fFitRJy2mYBV"
   },
   "source": [
    "Select subset of the dataframe d1 such that it contains the cities which are union territories."
   ]
  },
  {
   "cell_type": "code",
   "execution_count": 39,
   "id": "ddef4f8b",
   "metadata": {
    "id": "Kg8OSVz0mYBV",
    "outputId": "686083a4-3b1f-4c7d-8fb8-d26aac318e52"
   },
   "outputs": [
    {
     "data": {
      "text/html": [
       "<div>\n",
       "<style scoped>\n",
       "    .dataframe tbody tr th:only-of-type {\n",
       "        vertical-align: middle;\n",
       "    }\n",
       "\n",
       "    .dataframe tbody tr th {\n",
       "        vertical-align: top;\n",
       "    }\n",
       "\n",
       "    .dataframe thead th {\n",
       "        text-align: right;\n",
       "    }\n",
       "</style>\n",
       "<table border=\"1\" class=\"dataframe\">\n",
       "  <thead>\n",
       "    <tr style=\"text-align: right;\">\n",
       "      <th></th>\n",
       "      <th>city</th>\n",
       "    </tr>\n",
       "  </thead>\n",
       "  <tbody>\n",
       "    <tr>\n",
       "      <th>0</th>\n",
       "      <td>Chandigarh</td>\n",
       "    </tr>\n",
       "    <tr>\n",
       "      <th>1</th>\n",
       "      <td>Delhi</td>\n",
       "    </tr>\n",
       "    <tr>\n",
       "      <th>3</th>\n",
       "      <td>Pondicherry</td>\n",
       "    </tr>\n",
       "  </tbody>\n",
       "</table>\n",
       "</div>"
      ],
      "text/plain": [
       "          city\n",
       "0   Chandigarh\n",
       "1        Delhi\n",
       "3  Pondicherry"
      ]
     },
     "execution_count": 39,
     "metadata": {},
     "output_type": "execute_result"
    }
   ],
   "source": [
    "\n",
    "d3[d3['is_ut'] == 'yes'][['city']]\n"
   ]
  },
  {
   "cell_type": "markdown",
   "id": "3f901b8c",
   "metadata": {
    "id": "XnxQl4ZPmYBV"
   },
   "source": [
    "Select a subset of the dataframe d1 such that it contains the cities which only have temperature above 90 Farenhiet."
   ]
  },
  {
   "cell_type": "code",
   "execution_count": 43,
   "id": "43a009a6",
   "metadata": {
    "id": "9o62VSn7mYBV",
    "outputId": "0cf73a78-2dfc-4be7-9bea-43fd0318b657"
   },
   "outputs": [],
   "source": [
    "d3[d3['Fahrenheit'] > 90.0][['city']]\n",
    "data[data['Age'] <= 18][['Name']]"
   ]
  },
  {
   "cell_type": "markdown",
   "id": "e0e8e12a",
   "metadata": {
    "id": "IQq7K2EtmYBW"
   },
   "source": [
    "Select only the first three rows of the dataframe d1. \n"
   ]
  },
  {
   "cell_type": "code",
   "execution_count": 44,
   "id": "3195db9b",
   "metadata": {
    "id": "PlmVOyAAmYBW",
    "outputId": "2c1d6ad5-1e08-4f31-d0c0-c1fbf8289d32"
   },
   "outputs": [
    {
     "data": {
      "text/html": [
       "<div>\n",
       "<style scoped>\n",
       "    .dataframe tbody tr th:only-of-type {\n",
       "        vertical-align: middle;\n",
       "    }\n",
       "\n",
       "    .dataframe tbody tr th {\n",
       "        vertical-align: top;\n",
       "    }\n",
       "\n",
       "    .dataframe thead th {\n",
       "        text-align: right;\n",
       "    }\n",
       "</style>\n",
       "<table border=\"1\" class=\"dataframe\">\n",
       "  <thead>\n",
       "    <tr style=\"text-align: right;\">\n",
       "      <th></th>\n",
       "      <th>city</th>\n",
       "      <th>Temperature</th>\n",
       "      <th>is_ut</th>\n",
       "      <th>Fahrenheit</th>\n",
       "    </tr>\n",
       "  </thead>\n",
       "  <tbody>\n",
       "    <tr>\n",
       "      <th>0</th>\n",
       "      <td>Chandigarh</td>\n",
       "      <td>15</td>\n",
       "      <td>yes</td>\n",
       "      <td>49.0</td>\n",
       "    </tr>\n",
       "    <tr>\n",
       "      <th>1</th>\n",
       "      <td>Delhi</td>\n",
       "      <td>22</td>\n",
       "      <td>yes</td>\n",
       "      <td>71.6</td>\n",
       "    </tr>\n",
       "    <tr>\n",
       "      <th>2</th>\n",
       "      <td>Kanpur</td>\n",
       "      <td>20</td>\n",
       "      <td>no</td>\n",
       "      <td>32.0</td>\n",
       "    </tr>\n",
       "  </tbody>\n",
       "</table>\n",
       "</div>"
      ],
      "text/plain": [
       "         city  Temperature is_ut   Fahrenheit\n",
       "0  Chandigarh           15   yes         49.0\n",
       "1       Delhi           22   yes         71.6\n",
       "2      Kanpur           20    no         32.0"
      ]
     },
     "execution_count": 44,
     "metadata": {},
     "output_type": "execute_result"
    }
   ],
   "source": [
    "d3.head(3)"
   ]
  },
  {
   "cell_type": "markdown",
   "id": "a25bf9a8",
   "metadata": {
    "id": "MKNIbwW2mYBW"
   },
   "source": [
    "Select all the rows and last two columns in the dataframe.\n",
    "\n",
    "\n"
   ]
  },
  {
   "cell_type": "code",
   "execution_count": 45,
   "id": "ebccc0c3",
   "metadata": {
    "id": "WfQasVJImYBW",
    "outputId": "c157a66e-61b9-4a9a-e7f1-6ee392ccfe3a"
   },
   "outputs": [
    {
     "data": {
      "text/html": [
       "<div>\n",
       "<style scoped>\n",
       "    .dataframe tbody tr th:only-of-type {\n",
       "        vertical-align: middle;\n",
       "    }\n",
       "\n",
       "    .dataframe tbody tr th {\n",
       "        vertical-align: top;\n",
       "    }\n",
       "\n",
       "    .dataframe thead th {\n",
       "        text-align: right;\n",
       "    }\n",
       "</style>\n",
       "<table border=\"1\" class=\"dataframe\">\n",
       "  <thead>\n",
       "    <tr style=\"text-align: right;\">\n",
       "      <th></th>\n",
       "      <th>is_ut</th>\n",
       "      <th>Temperature</th>\n",
       "    </tr>\n",
       "  </thead>\n",
       "  <tbody>\n",
       "    <tr>\n",
       "      <th>0</th>\n",
       "      <td>yes</td>\n",
       "      <td>15</td>\n",
       "    </tr>\n",
       "    <tr>\n",
       "      <th>1</th>\n",
       "      <td>yes</td>\n",
       "      <td>22</td>\n",
       "    </tr>\n",
       "    <tr>\n",
       "      <th>2</th>\n",
       "      <td>no</td>\n",
       "      <td>20</td>\n",
       "    </tr>\n",
       "    <tr>\n",
       "      <th>3</th>\n",
       "      <td>no</td>\n",
       "      <td>26</td>\n",
       "    </tr>\n",
       "    <tr>\n",
       "      <th>4</th>\n",
       "      <td>no</td>\n",
       "      <td>-2</td>\n",
       "    </tr>\n",
       "    <tr>\n",
       "      <th>0</th>\n",
       "      <td>no</td>\n",
       "      <td>24</td>\n",
       "    </tr>\n",
       "    <tr>\n",
       "      <th>1</th>\n",
       "      <td>no</td>\n",
       "      <td>35</td>\n",
       "    </tr>\n",
       "    <tr>\n",
       "      <th>2</th>\n",
       "      <td>no</td>\n",
       "      <td>36</td>\n",
       "    </tr>\n",
       "    <tr>\n",
       "      <th>3</th>\n",
       "      <td>yes</td>\n",
       "      <td>39</td>\n",
       "    </tr>\n",
       "  </tbody>\n",
       "</table>\n",
       "</div>"
      ],
      "text/plain": [
       "  is_ut  Temperature\n",
       "0   yes           15\n",
       "1   yes           22\n",
       "2    no           20\n",
       "3    no           26\n",
       "4    no           -2\n",
       "0    no           24\n",
       "1    no           35\n",
       "2    no           36\n",
       "3   yes           39"
      ]
     },
     "execution_count": 45,
     "metadata": {},
     "output_type": "execute_result"
    }
   ],
   "source": [
    "d4 = d3[['is_ut', 'Temperature']]\n",
    "d4"
   ]
  },
  {
   "cell_type": "markdown",
   "id": "c180d752",
   "metadata": {
    "id": "LQ9xspkHmYBW"
   },
   "source": [
    "## Groupby"
   ]
  },
  {
   "cell_type": "code",
   "execution_count": 46,
   "id": "34d56325",
   "metadata": {},
   "outputs": [
    {
     "data": {
      "text/html": [
       "<div>\n",
       "<style scoped>\n",
       "    .dataframe tbody tr th:only-of-type {\n",
       "        vertical-align: middle;\n",
       "    }\n",
       "\n",
       "    .dataframe tbody tr th {\n",
       "        vertical-align: top;\n",
       "    }\n",
       "\n",
       "    .dataframe thead th {\n",
       "        text-align: right;\n",
       "    }\n",
       "</style>\n",
       "<table border=\"1\" class=\"dataframe\">\n",
       "  <thead>\n",
       "    <tr style=\"text-align: right;\">\n",
       "      <th></th>\n",
       "      <th>Name</th>\n",
       "      <th>Age</th>\n",
       "      <th>University</th>\n",
       "    </tr>\n",
       "  </thead>\n",
       "  <tbody>\n",
       "    <tr>\n",
       "      <th>0</th>\n",
       "      <td>Ankit</td>\n",
       "      <td>23</td>\n",
       "      <td>BHU</td>\n",
       "    </tr>\n",
       "    <tr>\n",
       "      <th>1</th>\n",
       "      <td>Aishwarya</td>\n",
       "      <td>21</td>\n",
       "      <td>JNU</td>\n",
       "    </tr>\n",
       "    <tr>\n",
       "      <th>2</th>\n",
       "      <td>Shaurya</td>\n",
       "      <td>22</td>\n",
       "      <td>DU</td>\n",
       "    </tr>\n",
       "    <tr>\n",
       "      <th>3</th>\n",
       "      <td>Shivangi</td>\n",
       "      <td>21</td>\n",
       "      <td>BHU</td>\n",
       "    </tr>\n",
       "  </tbody>\n",
       "</table>\n",
       "</div>"
      ],
      "text/plain": [
       "        Name  Age University\n",
       "0      Ankit   23        BHU\n",
       "1  Aishwarya   21        JNU\n",
       "2    Shaurya   22         DU\n",
       "3   Shivangi   21        BHU"
      ]
     },
     "execution_count": 46,
     "metadata": {},
     "output_type": "execute_result"
    }
   ],
   "source": [
    "# Create a dataframe using dictionary of your choice\n",
    "\n",
    "data = {\n",
    "    'Name' : ['Ankit', 'Aishwarya', 'Shaurya', 'Shivangi'],\n",
    "    'Age' : [23, 21, 22, 21],\n",
    "    'University' : ['BHU', 'JNU', 'DU', 'BHU'],\n",
    "}\n",
    "  \n",
    "# creating a Dataframe object \n",
    "df = pd.DataFrame(data)\n",
    "  \n",
    "df\n",
    "\n",
    "\n",
    "\n",
    "\n"
   ]
  },
  {
   "cell_type": "code",
   "execution_count": 47,
   "id": "f03e0a13",
   "metadata": {},
   "outputs": [
    {
     "name": "stdout",
     "output_type": "stream",
     "text": [
      "<pandas.core.groupby.generic.DataFrameGroupBy object at 0x0000025EC56406D0>\n"
     ]
    }
   ],
   "source": [
    "# Use Groupby of single column with aggregate sum()\n",
    "\n",
    "\n",
    "\n",
    "print(df.groupby(['Name','Age'])[['University']])"
   ]
  },
  {
   "cell_type": "code",
   "execution_count": 48,
   "id": "106c62d5",
   "metadata": {},
   "outputs": [
    {
     "data": {
      "text/html": [
       "<div>\n",
       "<style scoped>\n",
       "    .dataframe tbody tr th:only-of-type {\n",
       "        vertical-align: middle;\n",
       "    }\n",
       "\n",
       "    .dataframe tbody tr th {\n",
       "        vertical-align: top;\n",
       "    }\n",
       "\n",
       "    .dataframe thead th {\n",
       "        text-align: right;\n",
       "    }\n",
       "</style>\n",
       "<table border=\"1\" class=\"dataframe\">\n",
       "  <thead>\n",
       "    <tr style=\"text-align: right;\">\n",
       "      <th></th>\n",
       "      <th></th>\n",
       "      <th>University</th>\n",
       "    </tr>\n",
       "    <tr>\n",
       "      <th>Name</th>\n",
       "      <th>Age</th>\n",
       "      <th></th>\n",
       "    </tr>\n",
       "  </thead>\n",
       "  <tbody>\n",
       "    <tr>\n",
       "      <th>Aishwarya</th>\n",
       "      <th>21</th>\n",
       "      <td>1</td>\n",
       "    </tr>\n",
       "    <tr>\n",
       "      <th>Ankit</th>\n",
       "      <th>23</th>\n",
       "      <td>1</td>\n",
       "    </tr>\n",
       "    <tr>\n",
       "      <th>Shaurya</th>\n",
       "      <th>22</th>\n",
       "      <td>1</td>\n",
       "    </tr>\n",
       "    <tr>\n",
       "      <th>Shivangi</th>\n",
       "      <th>21</th>\n",
       "      <td>1</td>\n",
       "    </tr>\n",
       "  </tbody>\n",
       "</table>\n",
       "</div>"
      ],
      "text/plain": [
       "               University\n",
       "Name      Age            \n",
       "Aishwarya 21            1\n",
       "Ankit     23            1\n",
       "Shaurya   22            1\n",
       "Shivangi  21            1"
      ]
     },
     "execution_count": 48,
     "metadata": {},
     "output_type": "execute_result"
    }
   ],
   "source": [
    "# Use Groupby of single column with aggregate count()\n",
    "\n",
    "df.groupby(['Name','Age'])[['University']].count()"
   ]
  },
  {
   "cell_type": "code",
   "execution_count": 49,
   "id": "bb2d40c9",
   "metadata": {
    "scrolled": true
   },
   "outputs": [
    {
     "data": {
      "text/html": [
       "<div>\n",
       "<style scoped>\n",
       "    .dataframe tbody tr th:only-of-type {\n",
       "        vertical-align: middle;\n",
       "    }\n",
       "\n",
       "    .dataframe tbody tr th {\n",
       "        vertical-align: top;\n",
       "    }\n",
       "\n",
       "    .dataframe thead th {\n",
       "        text-align: right;\n",
       "    }\n",
       "</style>\n",
       "<table border=\"1\" class=\"dataframe\">\n",
       "  <thead>\n",
       "    <tr style=\"text-align: right;\">\n",
       "      <th></th>\n",
       "      <th>Age</th>\n",
       "    </tr>\n",
       "    <tr>\n",
       "      <th>Name</th>\n",
       "      <th></th>\n",
       "    </tr>\n",
       "  </thead>\n",
       "  <tbody>\n",
       "    <tr>\n",
       "      <th>Aishwarya</th>\n",
       "      <td>21</td>\n",
       "    </tr>\n",
       "    <tr>\n",
       "      <th>Ankit</th>\n",
       "      <td>23</td>\n",
       "    </tr>\n",
       "    <tr>\n",
       "      <th>Shaurya</th>\n",
       "      <td>22</td>\n",
       "    </tr>\n",
       "    <tr>\n",
       "      <th>Shivangi</th>\n",
       "      <td>21</td>\n",
       "    </tr>\n",
       "  </tbody>\n",
       "</table>\n",
       "</div>"
      ],
      "text/plain": [
       "           Age\n",
       "Name          \n",
       "Aishwarya   21\n",
       "Ankit       23\n",
       "Shaurya     22\n",
       "Shivangi    21"
      ]
     },
     "execution_count": 49,
     "metadata": {},
     "output_type": "execute_result"
    }
   ],
   "source": [
    "# Use Groupby of single column with aggregate min() and max()\n",
    "\n",
    "df.groupby(by='Name').min('Age')"
   ]
  },
  {
   "cell_type": "code",
   "execution_count": 50,
   "id": "15ae873d",
   "metadata": {},
   "outputs": [
    {
     "data": {
      "text/html": [
       "<div>\n",
       "<style scoped>\n",
       "    .dataframe tbody tr th:only-of-type {\n",
       "        vertical-align: middle;\n",
       "    }\n",
       "\n",
       "    .dataframe tbody tr th {\n",
       "        vertical-align: top;\n",
       "    }\n",
       "\n",
       "    .dataframe thead th {\n",
       "        text-align: right;\n",
       "    }\n",
       "</style>\n",
       "<table border=\"1\" class=\"dataframe\">\n",
       "  <thead>\n",
       "    <tr style=\"text-align: right;\">\n",
       "      <th></th>\n",
       "      <th>Age</th>\n",
       "    </tr>\n",
       "    <tr>\n",
       "      <th>Name</th>\n",
       "      <th></th>\n",
       "    </tr>\n",
       "  </thead>\n",
       "  <tbody>\n",
       "    <tr>\n",
       "      <th>Aishwarya</th>\n",
       "      <td>21</td>\n",
       "    </tr>\n",
       "    <tr>\n",
       "      <th>Ankit</th>\n",
       "      <td>23</td>\n",
       "    </tr>\n",
       "    <tr>\n",
       "      <th>Shaurya</th>\n",
       "      <td>22</td>\n",
       "    </tr>\n",
       "    <tr>\n",
       "      <th>Shivangi</th>\n",
       "      <td>21</td>\n",
       "    </tr>\n",
       "  </tbody>\n",
       "</table>\n",
       "</div>"
      ],
      "text/plain": [
       "           Age\n",
       "Name          \n",
       "Aishwarya   21\n",
       "Ankit       23\n",
       "Shaurya     22\n",
       "Shivangi    21"
      ]
     },
     "execution_count": 50,
     "metadata": {},
     "output_type": "execute_result"
    }
   ],
   "source": [
    "\n",
    "df.groupby(by='Name').max('Age')\n"
   ]
  },
  {
   "cell_type": "code",
   "execution_count": 51,
   "id": "96f0b63a",
   "metadata": {},
   "outputs": [
    {
     "name": "stderr",
     "output_type": "stream",
     "text": [
      "C:\\Users\\91883\\AppData\\Local\\Temp\\ipykernel_15616\\2329545415.py:3: FutureWarning: Dropping invalid columns in DataFrameGroupBy.mean is deprecated. In a future version, a TypeError will be raised. Before calling .mean, select only columns which should be valid for the function.\n",
      "  df.groupby(['Name','Age']).mean()\n"
     ]
    },
    {
     "data": {
      "text/html": [
       "<div>\n",
       "<style scoped>\n",
       "    .dataframe tbody tr th:only-of-type {\n",
       "        vertical-align: middle;\n",
       "    }\n",
       "\n",
       "    .dataframe tbody tr th {\n",
       "        vertical-align: top;\n",
       "    }\n",
       "\n",
       "    .dataframe thead th {\n",
       "        text-align: right;\n",
       "    }\n",
       "</style>\n",
       "<table border=\"1\" class=\"dataframe\">\n",
       "  <thead>\n",
       "    <tr style=\"text-align: right;\">\n",
       "      <th></th>\n",
       "      <th></th>\n",
       "    </tr>\n",
       "    <tr>\n",
       "      <th>Name</th>\n",
       "      <th>Age</th>\n",
       "    </tr>\n",
       "  </thead>\n",
       "  <tbody>\n",
       "    <tr>\n",
       "      <th>Aishwarya</th>\n",
       "      <th>21</th>\n",
       "    </tr>\n",
       "    <tr>\n",
       "      <th>Ankit</th>\n",
       "      <th>23</th>\n",
       "    </tr>\n",
       "    <tr>\n",
       "      <th>Shaurya</th>\n",
       "      <th>22</th>\n",
       "    </tr>\n",
       "    <tr>\n",
       "      <th>Shivangi</th>\n",
       "      <th>21</th>\n",
       "    </tr>\n",
       "  </tbody>\n",
       "</table>\n",
       "</div>"
      ],
      "text/plain": [
       "Empty DataFrame\n",
       "Columns: []\n",
       "Index: [(Aishwarya, 21), (Ankit, 23), (Shaurya, 22), (Shivangi, 21)]"
      ]
     },
     "execution_count": 51,
     "metadata": {},
     "output_type": "execute_result"
    }
   ],
   "source": [
    "# Use Groupby of any 2 columns with aggregate mean()\n",
    "\n",
    "df.groupby(['Name','Age']).mean()\n"
   ]
  },
  {
   "cell_type": "code",
   "execution_count": 52,
   "id": "5f3ac41b",
   "metadata": {},
   "outputs": [
    {
     "data": {
      "text/html": [
       "<div>\n",
       "<style scoped>\n",
       "    .dataframe tbody tr th:only-of-type {\n",
       "        vertical-align: middle;\n",
       "    }\n",
       "\n",
       "    .dataframe tbody tr th {\n",
       "        vertical-align: top;\n",
       "    }\n",
       "\n",
       "    .dataframe thead th {\n",
       "        text-align: right;\n",
       "    }\n",
       "</style>\n",
       "<table border=\"1\" class=\"dataframe\">\n",
       "  <thead>\n",
       "    <tr style=\"text-align: right;\">\n",
       "      <th></th>\n",
       "      <th></th>\n",
       "      <th>University</th>\n",
       "    </tr>\n",
       "    <tr>\n",
       "      <th>Name</th>\n",
       "      <th>Age</th>\n",
       "      <th></th>\n",
       "    </tr>\n",
       "  </thead>\n",
       "  <tbody>\n",
       "    <tr>\n",
       "      <th>Aishwarya</th>\n",
       "      <th>21</th>\n",
       "      <td>JNU</td>\n",
       "    </tr>\n",
       "    <tr>\n",
       "      <th>Ankit</th>\n",
       "      <th>23</th>\n",
       "      <td>BHU</td>\n",
       "    </tr>\n",
       "    <tr>\n",
       "      <th>Shaurya</th>\n",
       "      <th>22</th>\n",
       "      <td>DU</td>\n",
       "    </tr>\n",
       "    <tr>\n",
       "      <th>Shivangi</th>\n",
       "      <th>21</th>\n",
       "      <td>BHU</td>\n",
       "    </tr>\n",
       "  </tbody>\n",
       "</table>\n",
       "</div>"
      ],
      "text/plain": [
       "              University\n",
       "Name      Age           \n",
       "Aishwarya 21         JNU\n",
       "Ankit     23         BHU\n",
       "Shaurya   22          DU\n",
       "Shivangi  21         BHU"
      ]
     },
     "execution_count": 52,
     "metadata": {},
     "output_type": "execute_result"
    }
   ],
   "source": [
    "# Use Groupby of any 2 columns with aggregate min() and max()\n",
    "\n",
    "df.groupby(['Name','Age']).min()\n",
    "df.groupby(['Name','Age']).max()"
   ]
  },
  {
   "cell_type": "code",
   "execution_count": null,
   "id": "f68aa5d5",
   "metadata": {},
   "outputs": [],
   "source": []
  },
  {
   "cell_type": "markdown",
   "id": "ac2a62a4",
   "metadata": {
    "id": "goEgED0xmYBY"
   },
   "source": [
    "## Data Range"
   ]
  },
  {
   "cell_type": "markdown",
   "id": "5c6eb694",
   "metadata": {
    "id": "jJOxVdLemYBY"
   },
   "source": [
    "Create a pandas daterange where starting date is 1st of January,2020 and end date is 1st of April 2021, store it in a new variable named 'a'"
   ]
  },
  {
   "cell_type": "code",
   "execution_count": 53,
   "id": "c3ba03ee",
   "metadata": {
    "id": "Nvx8f5GTmYBZ"
   },
   "outputs": [],
   "source": [
    "a = pd.date_range(start ='1-1-2020', \n",
    "         end ='1-04-2021', freq ='5H')\n",
    " "
   ]
  },
  {
   "cell_type": "markdown",
   "id": "2c32b989",
   "metadata": {
    "id": "ybvAMVSzmYBZ"
   },
   "source": [
    "print a"
   ]
  },
  {
   "cell_type": "code",
   "execution_count": 54,
   "id": "981c56c5",
   "metadata": {
    "id": "TOe-Alj8mYBZ",
    "outputId": "a0e830f7-6826-4082-98c4-cc02bcfe43f3"
   },
   "outputs": [
    {
     "data": {
      "text/plain": [
       "DatetimeIndex(['2020-01-01 00:00:00', '2020-01-01 05:00:00',\n",
       "               '2020-01-01 10:00:00', '2020-01-01 15:00:00',\n",
       "               '2020-01-01 20:00:00', '2020-01-02 01:00:00',\n",
       "               '2020-01-02 06:00:00', '2020-01-02 11:00:00',\n",
       "               '2020-01-02 16:00:00', '2020-01-02 21:00:00',\n",
       "               ...\n",
       "               '2021-01-02 02:00:00', '2021-01-02 07:00:00',\n",
       "               '2021-01-02 12:00:00', '2021-01-02 17:00:00',\n",
       "               '2021-01-02 22:00:00', '2021-01-03 03:00:00',\n",
       "               '2021-01-03 08:00:00', '2021-01-03 13:00:00',\n",
       "               '2021-01-03 18:00:00', '2021-01-03 23:00:00'],\n",
       "              dtype='datetime64[ns]', length=1772, freq='5H')"
      ]
     },
     "execution_count": 54,
     "metadata": {},
     "output_type": "execute_result"
    }
   ],
   "source": [
    "\n",
    "\n",
    "a"
   ]
  },
  {
   "cell_type": "markdown",
   "id": "4c5fcda8",
   "metadata": {
    "id": "vI1gctGmmYBZ"
   },
   "source": [
    "What is the len of a?"
   ]
  },
  {
   "cell_type": "code",
   "execution_count": 55,
   "id": "4c6844cd",
   "metadata": {
    "id": "D66uR7vDmYBZ",
    "outputId": "c3fcbc58-7b57-4cf8-bc44-85303b525c6e"
   },
   "outputs": [
    {
     "data": {
      "text/plain": [
       "1772"
      ]
     },
     "execution_count": 55,
     "metadata": {},
     "output_type": "execute_result"
    }
   ],
   "source": [
    "\n",
    "\n",
    "len(a)"
   ]
  },
  {
   "cell_type": "markdown",
   "id": "85881cd3",
   "metadata": {
    "id": "MQvcL-SImYBZ"
   },
   "source": [
    "What is the type of a?"
   ]
  },
  {
   "cell_type": "code",
   "execution_count": 56,
   "id": "0b480641",
   "metadata": {
    "id": "cnb8Z0CXmYBZ",
    "outputId": "a72dc4cd-5225-4098-8084-900f69caeb81"
   },
   "outputs": [
    {
     "data": {
      "text/plain": [
       "pandas.core.indexes.datetimes.DatetimeIndex"
      ]
     },
     "execution_count": 56,
     "metadata": {},
     "output_type": "execute_result"
    }
   ],
   "source": [
    "\n",
    "type(a)\n",
    "\n"
   ]
  },
  {
   "cell_type": "code",
   "execution_count": null,
   "id": "29180868",
   "metadata": {},
   "outputs": [],
   "source": []
  }
 ],
 "metadata": {
  "colab": {
   "collapsed_sections": [],
   "provenance": []
  },
  "kernelspec": {
   "display_name": "Python 3 (ipykernel)",
   "language": "python",
   "name": "python3"
  },
  "language_info": {
   "codemirror_mode": {
    "name": "ipython",
    "version": 3
   },
   "file_extension": ".py",
   "mimetype": "text/x-python",
   "name": "python",
   "nbconvert_exporter": "python",
   "pygments_lexer": "ipython3",
   "version": "3.9.13"
  }
 },
 "nbformat": 4,
 "nbformat_minor": 5
}

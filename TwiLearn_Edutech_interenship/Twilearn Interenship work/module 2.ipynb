{
 "cells": [
  {
   "cell_type": "markdown",
   "id": "12e5ea21",
   "metadata": {},
   "source": [
    "# module 2"
   ]
  },
  {
   "cell_type": "markdown",
   "id": "c5988750",
   "metadata": {},
   "source": [
    "## List and it's Methods\n",
    "Lists are used to store multiple items in a single variable.\n",
    "\n",
    "Lists are used to store multiple items in a single variable.\n",
    "It is a collection which is ordered, changeable and allows duplicate members.\n",
    "List Methods\n",
    "\n",
    "append(), sort(), reverse(), remove(), pop(), insert(), index(), extend(), count(), copy(), clear()\n",
    "\n"
   ]
  },
  {
   "cell_type": "code",
   "execution_count": 15,
   "id": "29e99fac",
   "metadata": {},
   "outputs": [],
   "source": [
    "fruits = ['apple', 'cherrry', 'banana']\n"
   ]
  },
  {
   "cell_type": "code",
   "execution_count": 17,
   "id": "6dcc7f8c",
   "metadata": {},
   "outputs": [
    {
     "data": {
      "text/plain": [
       "['apple', 'cherrry', 'banana', 'orange', 'orange']"
      ]
     },
     "execution_count": 17,
     "metadata": {},
     "output_type": "execute_result"
    }
   ],
   "source": [
    "fruits.append(\"orange\")\n",
    "fruits"
   ]
  },
  {
   "cell_type": "code",
   "execution_count": 19,
   "id": "d6f19cca",
   "metadata": {},
   "outputs": [
    {
     "data": {
      "text/plain": [
       "['apple', 'banana', 'cherrry', 'orange', 'orange']"
      ]
     },
     "execution_count": 19,
     "metadata": {},
     "output_type": "execute_result"
    }
   ],
   "source": [
    "fruits.sort()\n",
    "fruits"
   ]
  },
  {
   "cell_type": "code",
   "execution_count": 20,
   "id": "b57d729f",
   "metadata": {},
   "outputs": [
    {
     "data": {
      "text/plain": [
       "['orange', 'orange', 'cherrry', 'banana', 'apple']"
      ]
     },
     "execution_count": 20,
     "metadata": {},
     "output_type": "execute_result"
    }
   ],
   "source": [
    "fruits.reverse()\n",
    "fruits\n"
   ]
  },
  {
   "cell_type": "code",
   "execution_count": 21,
   "id": "eddbbe48",
   "metadata": {},
   "outputs": [
    {
     "data": {
      "text/plain": [
       "['orange', 'orange', 'cherrry', 'apple']"
      ]
     },
     "execution_count": 21,
     "metadata": {},
     "output_type": "execute_result"
    }
   ],
   "source": [
    "fruits.remove(\"banana\")\n",
    "fruits"
   ]
  },
  {
   "cell_type": "code",
   "execution_count": 22,
   "id": "12602d3f",
   "metadata": {},
   "outputs": [
    {
     "data": {
      "text/plain": [
       "['orange', 'cherrry', 'apple']"
      ]
     },
     "execution_count": 22,
     "metadata": {},
     "output_type": "execute_result"
    }
   ],
   "source": [
    "fruits.pop(1)\n",
    "fruits\n"
   ]
  },
  {
   "cell_type": "code",
   "execution_count": 23,
   "id": "d3adf7c7",
   "metadata": {},
   "outputs": [
    {
     "data": {
      "text/plain": [
       "['orange', 'watermelon', 'cherrry', 'apple']"
      ]
     },
     "execution_count": 23,
     "metadata": {},
     "output_type": "execute_result"
    }
   ],
   "source": [
    "fruits.insert(1, \"watermelon\")\n",
    "fruits"
   ]
  },
  {
   "cell_type": "code",
   "execution_count": 25,
   "id": "13a6f673",
   "metadata": {},
   "outputs": [
    {
     "data": {
      "text/plain": [
       "1"
      ]
     },
     "execution_count": 25,
     "metadata": {},
     "output_type": "execute_result"
    }
   ],
   "source": [
    "fruits.index(\"watermelon\")\n"
   ]
  },
  {
   "cell_type": "code",
   "execution_count": 40,
   "id": "81d0781a",
   "metadata": {},
   "outputs": [
    {
     "data": {
      "text/plain": [
       "['pineapple', 'strawaberry', 'guava', 'cherry', 'pineapple']"
      ]
     },
     "execution_count": 40,
     "metadata": {},
     "output_type": "execute_result"
    }
   ],
   "source": [
    "others = ['pineapple', 'strawaberry', 'guava','cherry','pineapple']\n",
    "others"
   ]
  },
  {
   "cell_type": "code",
   "execution_count": 41,
   "id": "7672b538",
   "metadata": {},
   "outputs": [
    {
     "data": {
      "text/plain": [
       "['pineapple',\n",
       " 'strawaberry',\n",
       " 'guava',\n",
       " 'cherry',\n",
       " 'pineapple',\n",
       " 'pineapple',\n",
       " 'strawaberry',\n",
       " 'guava',\n",
       " 'cherry',\n",
       " 'pineapple']"
      ]
     },
     "execution_count": 41,
     "metadata": {},
     "output_type": "execute_result"
    }
   ],
   "source": [
    "fruits.extend(others)\n",
    "fruits"
   ]
  },
  {
   "cell_type": "code",
   "execution_count": 42,
   "id": "6f902bbd",
   "metadata": {},
   "outputs": [
    {
     "data": {
      "text/plain": [
       "4"
      ]
     },
     "execution_count": 42,
     "metadata": {},
     "output_type": "execute_result"
    }
   ],
   "source": [
    "fruits.count(\"pineapple\")\n"
   ]
  },
  {
   "cell_type": "code",
   "execution_count": 43,
   "id": "f44832ef",
   "metadata": {},
   "outputs": [
    {
     "data": {
      "text/plain": [
       "['pineapple',\n",
       " 'strawaberry',\n",
       " 'guava',\n",
       " 'cherry',\n",
       " 'pineapple',\n",
       " 'pineapple',\n",
       " 'strawaberry',\n",
       " 'guava',\n",
       " 'cherry',\n",
       " 'pineapple']"
      ]
     },
     "execution_count": 43,
     "metadata": {},
     "output_type": "execute_result"
    }
   ],
   "source": [
    "s=fruits.copy()\n",
    "s"
   ]
  },
  {
   "cell_type": "code",
   "execution_count": 44,
   "id": "a67a8ada",
   "metadata": {},
   "outputs": [
    {
     "data": {
      "text/plain": [
       "[]"
      ]
     },
     "execution_count": 44,
     "metadata": {},
     "output_type": "execute_result"
    }
   ],
   "source": [
    "fruits.clear()\n",
    "fruits"
   ]
  },
  {
   "cell_type": "markdown",
   "id": "c6a8b62b",
   "metadata": {},
   "source": [
    "## String and it's Methods\n",
    "All string methods returns new values. They do not change the original string.\n",
    "String Methods\n",
    "\n",
    "isalpha(), isalnum(), index(), find(), count(), capitalize(), isdigit(), islower(), isnumeric()\n",
    "endswith(), upper(), title(), swapcase(), strip(), startswith(), split(), join(), lower(), replace()"
   ]
  },
  {
   "cell_type": "code",
   "execution_count": 45,
   "id": "438f8629",
   "metadata": {},
   "outputs": [
    {
     "name": "stdout",
     "output_type": "stream",
     "text": [
      "Hello, and welcome to our course.\n"
     ]
    }
   ],
   "source": [
    "txt = \"hello, and welcome to our course.\"\n",
    "a = txt.capitalize()\n",
    "print(a)\n"
   ]
  },
  {
   "cell_type": "code",
   "execution_count": 47,
   "id": "9eeb8459",
   "metadata": {},
   "outputs": [
    {
     "name": "stdout",
     "output_type": "stream",
     "text": [
      "2\n"
     ]
    }
   ],
   "source": [
    "txt = \"I am from India and born in Maharashtra, India\"\n",
    "b = txt.count(\"India\")\n",
    "print(b)"
   ]
  },
  {
   "cell_type": "code",
   "execution_count": 48,
   "id": "98cb7a8f",
   "metadata": {},
   "outputs": [
    {
     "name": "stdout",
     "output_type": "stream",
     "text": [
      "-1\n"
     ]
    }
   ],
   "source": [
    "txt = \"I love apples, apple are my favorite fruit\"\n",
    "c = txt.find(\"banana\")\n",
    "print(c)\n"
   ]
  },
  {
   "cell_type": "code",
   "execution_count": 49,
   "id": "1a441b6a",
   "metadata": {},
   "outputs": [
    {
     "name": "stdout",
     "output_type": "stream",
     "text": [
      "7\n"
     ]
    }
   ],
   "source": [
    "d = txt.index(\"apple\")\n",
    "print(d)\n"
   ]
  },
  {
   "cell_type": "code",
   "execution_count": 51,
   "id": "5424abda",
   "metadata": {},
   "outputs": [
    {
     "name": "stdout",
     "output_type": "stream",
     "text": [
      "['hello', 'my name is Peter', 'I am 26 years old']\n"
     ]
    },
    {
     "data": {
      "text/plain": [
       "list"
      ]
     },
     "execution_count": 51,
     "metadata": {},
     "output_type": "execute_result"
    }
   ],
   "source": [
    "txt = \"hello, my name is Peter, I am 26 years old\"\n",
    "e = txt.split(', ')\n",
    "print(e)\n",
    "type(e)"
   ]
  },
  {
   "cell_type": "code",
   "execution_count": 56,
   "id": "791afd0a",
   "metadata": {},
   "outputs": [
    {
     "name": "stdout",
     "output_type": "stream",
     "text": [
      "True\n"
     ]
    }
   ],
   "source": [
    "txt = \"Company12\"\n",
    "name = txt.isalnum()\n",
    "print(name)\n"
   ]
  },
  {
   "cell_type": "code",
   "execution_count": 53,
   "id": "9c226a4d",
   "metadata": {},
   "outputs": [
    {
     "name": "stdout",
     "output_type": "stream",
     "text": [
      "True\n"
     ]
    }
   ],
   "source": [
    "txt = \"Company\"\n",
    "alpha = txt.isalpha()\n",
    "print(alpha)\n"
   ]
  },
  {
   "cell_type": "code",
   "execution_count": 57,
   "id": "b1420e1a",
   "metadata": {},
   "outputs": [
    {
     "name": "stdout",
     "output_type": "stream",
     "text": [
      "True\n"
     ]
    }
   ],
   "source": [
    "txt = '50800'\n",
    "num = txt.isdigit()\n",
    "print(num)\n"
   ]
  },
  {
   "cell_type": "code",
   "execution_count": 58,
   "id": "081a3f84",
   "metadata": {},
   "outputs": [
    {
     "name": "stdout",
     "output_type": "stream",
     "text": [
      "John_Peter_Vicky\n"
     ]
    }
   ],
   "source": [
    "names = [\"John\", \"Peter\", \"Vicky\"]\n",
    "joined = \"_\".join(names)\n",
    "print(joined)"
   ]
  },
  {
   "cell_type": "code",
   "execution_count": 59,
   "id": "512e4723",
   "metadata": {},
   "outputs": [
    {
     "name": "stdout",
     "output_type": "stream",
     "text": [
      "I love cricket\n"
     ]
    }
   ],
   "source": [
    "txt = \"I love sports\"\n",
    "result = txt.replace(\"sports\", \"cricket\")\n",
    "print(result)"
   ]
  },
  {
   "cell_type": "code",
   "execution_count": 62,
   "id": "e415bd87",
   "metadata": {},
   "outputs": [],
   "source": [
    "txt = \"Hello, welcome to my world.\"\n",
    "start = txt.startswith(\"Hello\")\n",
    "end = txt.endswith(\".\")"
   ]
  },
  {
   "cell_type": "code",
   "execution_count": 63,
   "id": "eb767e41",
   "metadata": {},
   "outputs": [
    {
     "data": {
      "text/plain": [
       "(True, True)"
      ]
     },
     "execution_count": 63,
     "metadata": {},
     "output_type": "execute_result"
    }
   ],
   "source": [
    "start, end"
   ]
  },
  {
   "cell_type": "markdown",
   "id": "f0d68cc2",
   "metadata": {},
   "source": [
    "## Python Conditional Statements\n",
    "If , elif, else statements"
   ]
  },
  {
   "cell_type": "code",
   "execution_count": 66,
   "id": "8eb78c46",
   "metadata": {},
   "outputs": [
    {
     "name": "stdout",
     "output_type": "stream",
     "text": [
      "False\n"
     ]
    }
   ],
   "source": [
    "b , a = 33 , 200\n",
    "\n",
    "print(b>a)\n",
    "\n",
    "if b > a:\n",
    "  print(\"b is greater than a\")"
   ]
  },
  {
   "cell_type": "code",
   "execution_count": 65,
   "id": "da4758c1",
   "metadata": {},
   "outputs": [
    {
     "name": "stdout",
     "output_type": "stream",
     "text": [
      "Both scores equally\n"
     ]
    }
   ],
   "source": [
    "aman , vinod = 80 , 80\n",
    "\n",
    "if vinod > aman:\n",
    "  print(\"vinod scores greater than aman\")\n",
    "elif aman == vinod:\n",
    "  print(\"Both scores equally\")"
   ]
  },
  {
   "cell_type": "code",
   "execution_count": 67,
   "id": "69fa6aae",
   "metadata": {},
   "outputs": [
    {
     "name": "stdout",
     "output_type": "stream",
     "text": [
      "Both scores equally\n"
     ]
    }
   ],
   "source": [
    "if vinod > aman:\n",
    "  print(\"vinod scores greater than aman\")\n",
    "elif aman == vinod:\n",
    "  print(\"Both scores equally\")\n",
    "else:\n",
    "  print('aman scores greater than vinod')"
   ]
  },
  {
   "cell_type": "code",
   "execution_count": 72,
   "id": "aaf63a72",
   "metadata": {},
   "outputs": [
    {
     "name": "stdout",
     "output_type": "stream",
     "text": [
      "Sadly, He is Fail\n"
     ]
    }
   ],
   "source": [
    "marks = 28\n",
    "\n",
    "if marks > 35:\n",
    "  print(\"He is Pass\")\n",
    "  if marks > 60:\n",
    "    print(\"He is in Distinction\")\n",
    "  else:\n",
    "    print(\"He is in Mid Range\")\n",
    "else:\n",
    "  print('Sadly, He is Fail')"
   ]
  },
  {
   "cell_type": "code",
   "execution_count": null,
   "id": "420be71d",
   "metadata": {},
   "outputs": [],
   "source": []
  }
 ],
 "metadata": {
  "kernelspec": {
   "display_name": "Python 3 (ipykernel)",
   "language": "python",
   "name": "python3"
  },
  "language_info": {
   "codemirror_mode": {
    "name": "ipython",
    "version": 3
   },
   "file_extension": ".py",
   "mimetype": "text/x-python",
   "name": "python",
   "nbconvert_exporter": "python",
   "pygments_lexer": "ipython3",
   "version": "3.9.13"
  }
 },
 "nbformat": 4,
 "nbformat_minor": 5
}

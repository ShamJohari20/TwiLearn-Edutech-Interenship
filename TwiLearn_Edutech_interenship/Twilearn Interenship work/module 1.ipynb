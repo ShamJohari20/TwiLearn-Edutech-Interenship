{
 "cells": [
  {
   "cell_type": "markdown",
   "id": "bbe752dc",
   "metadata": {},
   "source": [
    "# module 1"
   ]
  },
  {
   "cell_type": "code",
   "execution_count": 31,
   "id": "4a74b7e3",
   "metadata": {},
   "outputs": [
    {
     "name": "stdout",
     "output_type": "stream",
     "text": [
      "sham\n"
     ]
    }
   ],
   "source": [
    "a = 'sham'    # This is my name\n",
    "print(a)"
   ]
  },
  {
   "cell_type": "markdown",
   "id": "8b87ee94",
   "metadata": {},
   "source": [
    "## Python Data Types, Type Casting & Variables\n",
    "\n",
    "Text Type: str\n",
    "\n",
    "Numeric Types: int, float\n",
    "\n",
    "Sequence Types: list, tuple, range\n",
    "\n",
    "Mapping Type: dict\n",
    "\n",
    "Set Types: set\n",
    "\n",
    "Boolean Type: bool\n"
   ]
  },
  {
   "cell_type": "code",
   "execution_count": 11,
   "id": "2bb0154b",
   "metadata": {},
   "outputs": [],
   "source": [
    "student1 = ('Rishika', 21, 90.2)    # Cannot modify it\n",
    "student2 = ['Rishika', 21, 90.2]    # Can modify it\n",
    "student3 = {'Rishika', 21, 90.2}    # Random Output"
   ]
  },
  {
   "cell_type": "code",
   "execution_count": 14,
   "id": "7a1d2ac7",
   "metadata": {},
   "outputs": [
    {
     "name": "stdout",
     "output_type": "stream",
     "text": [
      "<class 'tuple'>\n",
      "<class 'list'>\n",
      "<class 'set'>\n"
     ]
    }
   ],
   "source": [
    "print(type(student1))\n",
    "print(type(student2))\n",
    "print(type(student3))"
   ]
  },
  {
   "cell_type": "code",
   "execution_count": 15,
   "id": "3ba74226",
   "metadata": {},
   "outputs": [
    {
     "data": {
      "text/plain": [
       "{'Name': 'Rishika', 'Age': 21, 'Percent': 90.2}"
      ]
     },
     "execution_count": 15,
     "metadata": {},
     "output_type": "execute_result"
    }
   ],
   "source": [
    "student = {'Name':'Rishika', 'Age': 21, 'Percent':90.2}\n",
    "student"
   ]
  },
  {
   "cell_type": "code",
   "execution_count": 17,
   "id": "d1092b5d",
   "metadata": {},
   "outputs": [
    {
     "data": {
      "text/plain": [
       "False"
      ]
     },
     "execution_count": 17,
     "metadata": {},
     "output_type": "execute_result"
    }
   ],
   "source": [
    "bool(0)"
   ]
  },
  {
   "cell_type": "code",
   "execution_count": 16,
   "id": "950dd3f3",
   "metadata": {},
   "outputs": [
    {
     "data": {
      "text/plain": [
       "True"
      ]
     },
     "execution_count": 16,
     "metadata": {},
     "output_type": "execute_result"
    }
   ],
   "source": [
    "bool(1)"
   ]
  },
  {
   "cell_type": "markdown",
   "id": "7d18420b",
   "metadata": {},
   "source": [
    "##  Python Operators\n",
    "\n",
    "Arithmetic operators\n",
    "\n",
    "Assignment operators\n",
    "\n",
    "Comparison operators\n",
    "\n",
    "Logical operators\n",
    "\n",
    "Membership operators"
   ]
  },
  {
   "cell_type": "code",
   "execution_count": 6,
   "id": "c02505e2",
   "metadata": {},
   "outputs": [
    {
     "name": "stdout",
     "output_type": "stream",
     "text": [
      "13 -3 40 0.625 5 390625\n"
     ]
    }
   ],
   "source": [
    "# Arithmetic Operators (+,-,*,/,%,**)                        # Used with numeric values to perform common mathematical operations\n",
    "\n",
    "x = 5\n",
    "y = 8\n",
    "\n",
    "print(x+y, x-y, x*y, x/y, x%y, x**y)"
   ]
  },
  {
   "cell_type": "code",
   "execution_count": 18,
   "id": "d570e04e",
   "metadata": {},
   "outputs": [
    {
     "name": "stdout",
     "output_type": "stream",
     "text": [
      "-3\n",
      "-24\n"
     ]
    }
   ],
   "source": [
    "# Assignment Operators (=,+=,-=,*=,/=,%=,**=)                # Used to assign values to variables\n",
    "\n",
    "x, y = 5, 8\n",
    "\n",
    "#print(x = y, x += y, x -= y, x *= y, x %= y, x /= y, x **= y)\n",
    "\n",
    "x -= y       # x = x - y\n",
    "print(x)\n",
    "x *= y       # x = x * y\n",
    "print(x)\n"
   ]
  },
  {
   "cell_type": "code",
   "execution_count": 21,
   "id": "955574e6",
   "metadata": {},
   "outputs": [
    {
     "name": "stdout",
     "output_type": "stream",
     "text": [
      "False\n",
      "True\n"
     ]
    }
   ],
   "source": [
    "# Comparison Operators (==,!=,<,>,<=,>=)                     # Used to compare two values\n",
    "\n",
    "# print(x == y, x != y, x < y, x > y, x <= y, x >= y)\n",
    "x, y = 5, 8\n",
    "\n",
    "print(x > y) \n",
    "print(x < y)"
   ]
  },
  {
   "cell_type": "code",
   "execution_count": 24,
   "id": "b1a50877",
   "metadata": {},
   "outputs": [
    {
     "name": "stdout",
     "output_type": "stream",
     "text": [
      "8 5 False\n",
      "False\n",
      "True\n"
     ]
    }
   ],
   "source": [
    "# Logical Operators (==,!=,<,>,<=,>=)                        # Used to combine conditional statements\n",
    "\n",
    "print(x and y, x or y, not y)\n",
    "\n",
    "print(not((x < y) or (x == y)))\n",
    "print( (x < y) or (x == y))"
   ]
  },
  {
   "cell_type": "code",
   "execution_count": 30,
   "id": "90c1d163",
   "metadata": {},
   "outputs": [
    {
     "name": "stdout",
     "output_type": "stream",
     "text": [
      "True\n",
      "False\n"
     ]
    }
   ],
   "source": [
    "# Membership Operators (==,!=,<,>,<=,>=)                     # Used to test if a sequence is presented in an object\n",
    "\n",
    "# print(x in y, x not in y)\n",
    "\n",
    "x = [1,2,3,4,5]\n",
    "y = 6\n",
    "\n",
    "print(y not in x)\n",
    "print(y  in x)\n"
   ]
  },
  {
   "cell_type": "code",
   "execution_count": null,
   "id": "b3f662e6",
   "metadata": {},
   "outputs": [],
   "source": []
  }
 ],
 "metadata": {
  "kernelspec": {
   "display_name": "Python 3 (ipykernel)",
   "language": "python",
   "name": "python3"
  },
  "language_info": {
   "codemirror_mode": {
    "name": "ipython",
    "version": 3
   },
   "file_extension": ".py",
   "mimetype": "text/x-python",
   "name": "python",
   "nbconvert_exporter": "python",
   "pygments_lexer": "ipython3",
   "version": "3.9.13"
  }
 },
 "nbformat": 4,
 "nbformat_minor": 5
}

{
 "cells": [
  {
   "cell_type": "markdown",
   "id": "1015fc69",
   "metadata": {},
   "source": [
    "# module 3"
   ]
  },
  {
   "cell_type": "markdown",
   "id": "3cd19479",
   "metadata": {},
   "source": [
    "## For Loop\n",
    "It is used for iterating over a sequence (that is either a list, a tuple, a dictionary, a set, or a string).\n",
    "Using Break & Contiue keyword"
   ]
  },
  {
   "cell_type": "code",
   "execution_count": 1,
   "id": "5220b1f8",
   "metadata": {},
   "outputs": [
    {
     "name": "stdout",
     "output_type": "stream",
     "text": [
      "apple\n",
      "banana\n",
      "cherry\n",
      "pineappple\n",
      "mango\n"
     ]
    }
   ],
   "source": [
    "fruits = [\"apple\", \"banana\", \"cherry\",'pineappple','mango']\n",
    "\n",
    "for x in fruits:\n",
    "  print(x)"
   ]
  },
  {
   "cell_type": "code",
   "execution_count": 2,
   "id": "bcc84cc9",
   "metadata": {},
   "outputs": [
    {
     "name": "stdout",
     "output_type": "stream",
     "text": [
      "apple\n",
      "banana\n"
     ]
    }
   ],
   "source": [
    "for x in fruits:\n",
    "  print(x)\n",
    "  if x == \"banana\":\n",
    "    break"
   ]
  },
  {
   "cell_type": "code",
   "execution_count": 3,
   "id": "257ff951",
   "metadata": {},
   "outputs": [
    {
     "name": "stdout",
     "output_type": "stream",
     "text": [
      "apple\n",
      "banana\n",
      "pineappple\n",
      "mango\n"
     ]
    }
   ],
   "source": [
    "for x in fruits:\n",
    "  if x == \"cherry\":\n",
    "    continue\n",
    "  print(x)"
   ]
  },
  {
   "cell_type": "markdown",
   "id": "45b70f0d",
   "metadata": {},
   "source": [
    "## While Loop\n",
    "With the while loop we can execute a set of statements as long as a condition is true.\n",
    "Using Break & Contiue keyword"
   ]
  },
  {
   "cell_type": "code",
   "execution_count": 4,
   "id": "8c1b7ef3",
   "metadata": {},
   "outputs": [
    {
     "name": "stdout",
     "output_type": "stream",
     "text": [
      "1\n",
      "2\n",
      "3\n",
      "4\n",
      "5\n"
     ]
    }
   ],
   "source": [
    "num = 1\n",
    "\n",
    "while num < 6:\n",
    "  print(num)\n",
    "  num += 1"
   ]
  },
  {
   "cell_type": "code",
   "execution_count": 5,
   "id": "87105bab",
   "metadata": {},
   "outputs": [
    {
     "name": "stdout",
     "output_type": "stream",
     "text": [
      "1\n",
      "2\n",
      "3\n"
     ]
    }
   ],
   "source": [
    "num = 1\n",
    "\n",
    "while num < 6:\n",
    "  print(num)\n",
    "  if num == 3:\n",
    "    break\n",
    "  num += 1"
   ]
  },
  {
   "cell_type": "code",
   "execution_count": 6,
   "id": "f12b4316",
   "metadata": {},
   "outputs": [
    {
     "name": "stdout",
     "output_type": "stream",
     "text": [
      "1\n",
      "2\n",
      "3\n",
      "4\n",
      "6\n",
      "7\n",
      "8\n",
      "9\n",
      "10\n"
     ]
    }
   ],
   "source": [
    "num = 0\n",
    "\n",
    "while num < 10:\n",
    "  num += 1\n",
    "  if num == 5:\n",
    "    continue\n",
    "  print(num)"
   ]
  },
  {
   "cell_type": "markdown",
   "id": "6dfb8043",
   "metadata": {},
   "source": [
    "## Python Functions\n",
    "\n",
    "*   A function is a block of code which only runs when it is called.\n",
    "\n",
    "*   Advanced Functions - lambda, map, zip"
   ]
  },
  {
   "cell_type": "code",
   "execution_count": 8,
   "id": "89266187",
   "metadata": {},
   "outputs": [
    {
     "name": "stdout",
     "output_type": "stream",
     "text": [
      "Hello i'm from a function\n"
     ]
    }
   ],
   "source": [
    "def my_function():                     # Function Defining\n",
    "  print(\"Hello i'm from a function\")\n",
    "my_function()       # Function Calling"
   ]
  },
  {
   "cell_type": "code",
   "execution_count": 9,
   "id": "6e1221bd",
   "metadata": {},
   "outputs": [
    {
     "name": "stdout",
     "output_type": "stream",
     "text": [
      "CR001_Onkar\n"
     ]
    }
   ],
   "source": [
    "def my_ID(name):                    # Function with Arguments\n",
    "  print(\"CR001_\" + name)\n",
    "\n",
    "my_ID(\"Onkar\")"
   ]
  },
  {
   "cell_type": "code",
   "execution_count": 11,
   "id": "1df724a2",
   "metadata": {},
   "outputs": [
    {
     "data": {
      "text/plain": [
       "10"
      ]
     },
     "execution_count": 11,
     "metadata": {},
     "output_type": "execute_result"
    }
   ],
   "source": [
    "def add(a,b,c):\n",
    "    return a+b+c\n",
    "add(4,5,1)\n",
    "\n"
   ]
  },
  {
   "cell_type": "code",
   "execution_count": 12,
   "id": "6efdbc20",
   "metadata": {},
   "outputs": [
    {
     "name": "stdout",
     "output_type": "stream",
     "text": [
      "14\n"
     ]
    }
   ],
   "source": [
    "# Using Lambda Function\n",
    "\n",
    "add = lambda a,b,c: print(a+b+c)\n",
    "add(4, 5, 5)"
   ]
  },
  {
   "cell_type": "code",
   "execution_count": 13,
   "id": "83652182",
   "metadata": {},
   "outputs": [
    {
     "name": "stdout",
     "output_type": "stream",
     "text": [
      "[1, 4, 9, 16, 25]\n"
     ]
    }
   ],
   "source": [
    "# Map Function\n",
    "\n",
    "nums = [1, 2, 3, 4, 5]  \n",
    "\n",
    "def sq(n):    \n",
    "    return n*n  \n",
    "\n",
    "square = map(sq, nums)\n",
    "\n",
    "print(list(square))"
   ]
  },
  {
   "cell_type": "code",
   "execution_count": 14,
   "id": "ff3d237c",
   "metadata": {},
   "outputs": [
    {
     "name": "stdout",
     "output_type": "stream",
     "text": [
      "[('Manjeet', 4), ('Nikhil', 1), ('Shambhavi', 3)]\n"
     ]
    }
   ],
   "source": [
    "# Zip Function\n",
    "\n",
    "name = [\"Manjeet\", \"Nikhil\", \"Shambhavi\"]\n",
    "ID = [4, 1, 3]\n",
    "\n",
    "mapped = zip(name, ID) \n",
    "\n",
    "print(list(mapped))"
   ]
  },
  {
   "cell_type": "code",
   "execution_count": null,
   "id": "15f67278",
   "metadata": {},
   "outputs": [],
   "source": []
  }
 ],
 "metadata": {
  "kernelspec": {
   "display_name": "Python 3 (ipykernel)",
   "language": "python",
   "name": "python3"
  },
  "language_info": {
   "codemirror_mode": {
    "name": "ipython",
    "version": 3
   },
   "file_extension": ".py",
   "mimetype": "text/x-python",
   "name": "python",
   "nbconvert_exporter": "python",
   "pygments_lexer": "ipython3",
   "version": "3.9.13"
  }
 },
 "nbformat": 4,
 "nbformat_minor": 5
}
